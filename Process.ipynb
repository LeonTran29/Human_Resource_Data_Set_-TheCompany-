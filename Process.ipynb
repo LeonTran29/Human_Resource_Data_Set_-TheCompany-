{
 "cells": [
  {
   "cell_type": "markdown",
   "id": "1333508a",
   "metadata": {},
   "source": [
    "1. Introduction\n"
   ]
  },
  {
   "cell_type": "markdown",
   "id": "1d22f51d",
   "metadata": {},
   "source": [
    "2. ASK\n"
   ]
  },
  {
   "cell_type": "markdown",
   "id": "f5759525",
   "metadata": {},
   "source": [
    "3. Process"
   ]
  },
  {
   "cell_type": "code",
   "execution_count": 10,
   "id": "81363ba2",
   "metadata": {},
   "outputs": [
    {
     "name": "stdout",
     "output_type": "stream",
     "text": [
      "Found text file: human-resource-data-set-the-company/2021.06_COL_2021.txt\n",
      "Found text file: human-resource-data-set-the-company/Diversity.txt\n",
      "Found text file: human-resource-data-set-the-company/EngagementSurvey.txt\n",
      "Found text file: human-resource-data-set-the-company/2021.06_job_profile_mapping.txt\n",
      "Found text file: human-resource-data-set-the-company/CompanyData.txt\n"
     ]
    }
   ],
   "source": [
    "# Import libraries\n",
    "import polars as pl\n",
    "import numpy as np\n",
    "import seaborn as sns\n",
    "import matplotlib.pyplot as plt\n",
    "import os\n",
    "\n",
    "# Import utils\n",
    "\n",
    "\n",
    "# Checking dataset\n",
    "for pathname, dirnames, filenames in os.walk('human-resource-data-set-the-company'):\n",
    "    for filename in filenames:\n",
    "        if filename.endswith('.txt'):\n",
    "            print(\"Found text file:\", os.path.join(pathname, filename)  )\n"
   ]
  },
  {
   "cell_type": "code",
   "execution_count": null,
   "id": "7c0b684f",
   "metadata": {},
   "outputs": [
    {
     "data": {
      "text/plain": [
       "'human-resource-data-set-the-company/'"
      ]
     },
     "metadata": {},
     "output_type": "display_data"
    },
    {
     "data": {
      "text/html": [
       "<div><style>\n",
       ".dataframe > thead > tr,\n",
       ".dataframe > tbody > tr {\n",
       "  text-align: right;\n",
       "  white-space: pre-wrap;\n",
       "}\n",
       "</style>\n",
       "<small>shape: (9, 3)</small><table border=\"1\" class=\"dataframe\"><thead><tr><th>Office</th><th>COL Amount</th><th>Currency</th></tr><tr><td>str</td><td>i64</td><td>str</td></tr></thead><tbody><tr><td>&quot;NYC&quot;</td><td>100</td><td>&quot;USD&quot;</td></tr><tr><td>&quot;Boulder&quot;</td><td>70</td><td>&quot;USD&quot;</td></tr><tr><td>&quot;Oslo&quot;</td><td>70</td><td>&quot;NOK&quot;</td></tr><tr><td>&quot;SanJose&quot;</td><td>90</td><td>&quot;USD&quot;</td></tr><tr><td>&quot;London&quot;</td><td>90</td><td>&quot;GBP&quot;</td></tr><tr><td>&quot;Tokyo&quot;</td><td>85</td><td>&quot;JPY&quot;</td></tr><tr><td>&quot;HongKong&quot;</td><td>85</td><td>&quot;HKD&quot;</td></tr><tr><td>&quot;SanFran&quot;</td><td>100</td><td>&quot;USD&quot;</td></tr><tr><td>&quot;Austin&quot;</td><td>70</td><td>&quot;USD&quot;</td></tr></tbody></table></div>"
      ],
      "text/plain": [
       "shape: (9, 3)\n",
       "┌──────────┬────────────┬──────────┐\n",
       "│ Office   ┆ COL Amount ┆ Currency │\n",
       "│ ---      ┆ ---        ┆ ---      │\n",
       "│ str      ┆ i64        ┆ str      │\n",
       "╞══════════╪════════════╪══════════╡\n",
       "│ NYC      ┆ 100        ┆ USD      │\n",
       "│ Boulder  ┆ 70         ┆ USD      │\n",
       "│ Oslo     ┆ 70         ┆ NOK      │\n",
       "│ SanJose  ┆ 90         ┆ USD      │\n",
       "│ London   ┆ 90         ┆ GBP      │\n",
       "│ Tokyo    ┆ 85         ┆ JPY      │\n",
       "│ HongKong ┆ 85         ┆ HKD      │\n",
       "│ SanFran  ┆ 100        ┆ USD      │\n",
       "│ Austin   ┆ 70         ┆ USD      │\n",
       "└──────────┴────────────┴──────────┘"
      ]
     },
     "metadata": {},
     "output_type": "display_data"
    },
    {
     "data": {
      "text/html": [
       "<div><style>\n",
       ".dataframe > thead > tr,\n",
       ".dataframe > tbody > tr {\n",
       "  text-align: right;\n",
       "  white-space: pre-wrap;\n",
       "}\n",
       "</style>\n",
       "<small>shape: (4_968, 8)</small><table border=\"1\" class=\"dataframe\"><thead><tr><th>EmployeeID</th><th>Gender</th><th>Gender Identity</th><th>Race/Ethnicity</th><th>Veteran</th><th>Disability</th><th>Education</th><th>Sexual Orientation</th></tr><tr><td>i64</td><td>str</td><td>str</td><td>str</td><td>i64</td><td>i64</td><td>str</td><td>str</td></tr></thead><tbody><tr><td>100001</td><td>&quot;female&quot;</td><td>&quot;female&quot;</td><td>&quot;White&quot;</td><td>0</td><td>0</td><td>&quot;Undergraduate&quot;</td><td>&quot;Heterosexual&quot;</td></tr><tr><td>100002</td><td>&quot;male&quot;</td><td>&quot;male&quot;</td><td>&quot;White&quot;</td><td>0</td><td>1</td><td>&quot;Undergraduate&quot;</td><td>&quot;Heterosexual&quot;</td></tr><tr><td>100003</td><td>&quot;female&quot;</td><td>&quot;female&quot;</td><td>&quot;Asian&quot;</td><td>0</td><td>0</td><td>&quot;Undergraduate&quot;</td><td>&quot;Heterosexual&quot;</td></tr><tr><td>100004</td><td>&quot;male&quot;</td><td>&quot;male&quot;</td><td>&quot;White&quot;</td><td>0</td><td>0</td><td>&quot;Undergraduate&quot;</td><td>&quot;Heterosexual&quot;</td></tr><tr><td>100005</td><td>&quot;male&quot;</td><td>&quot;male&quot;</td><td>&quot;Hispanic or Latino&quot;</td><td>0</td><td>0</td><td>&quot;Undergraduate&quot;</td><td>&quot;Missing&quot;</td></tr><tr><td>&hellip;</td><td>&hellip;</td><td>&hellip;</td><td>&hellip;</td><td>&hellip;</td><td>&hellip;</td><td>&hellip;</td><td>&hellip;</td></tr><tr><td>104964</td><td>&quot;male&quot;</td><td>&quot;male&quot;</td><td>&quot;Asian&quot;</td><td>0</td><td>0</td><td>&quot;Undergraduate&quot;</td><td>&quot;Heterosexual&quot;</td></tr><tr><td>104965</td><td>&quot;female&quot;</td><td>&quot;female&quot;</td><td>&quot;Hispanic or Latino&quot;</td><td>0</td><td>0</td><td>&quot;Undergraduate&quot;</td><td>&quot;Heterosexual&quot;</td></tr><tr><td>104966</td><td>&quot;male&quot;</td><td>&quot;male&quot;</td><td>&quot;White&quot;</td><td>0</td><td>0</td><td>&quot;Undergraduate&quot;</td><td>&quot;Missing&quot;</td></tr><tr><td>104967</td><td>&quot;male&quot;</td><td>&quot;Prefer not to say&quot;</td><td>&quot;White&quot;</td><td>0</td><td>0</td><td>&quot;Undergraduate&quot;</td><td>&quot;Gay&quot;</td></tr><tr><td>104968</td><td>&quot;female&quot;</td><td>&quot;female&quot;</td><td>&quot;White&quot;</td><td>0</td><td>0</td><td>&quot;Some College&quot;</td><td>&quot;Heterosexual&quot;</td></tr></tbody></table></div>"
      ],
      "text/plain": [
       "shape: (4_968, 8)\n",
       "┌────────────┬────────┬─────────────┬─────────────┬─────────┬────────────┬────────────┬────────────┐\n",
       "│ EmployeeID ┆ Gender ┆ Gender      ┆ Race/Ethnic ┆ Veteran ┆ Disability ┆ Education  ┆ Sexual Ori │\n",
       "│ ---        ┆ ---    ┆ Identity    ┆ ity         ┆ ---     ┆ ---        ┆ ---        ┆ entation   │\n",
       "│ i64        ┆ str    ┆ ---         ┆ ---         ┆ i64     ┆ i64        ┆ str        ┆ ---        │\n",
       "│            ┆        ┆ str         ┆ str         ┆         ┆            ┆            ┆ str        │\n",
       "╞════════════╪════════╪═════════════╪═════════════╪═════════╪════════════╪════════════╪════════════╡\n",
       "│ 100001     ┆ female ┆ female      ┆ White       ┆ 0       ┆ 0          ┆ Undergradu ┆ Heterosexu │\n",
       "│            ┆        ┆             ┆             ┆         ┆            ┆ ate        ┆ al         │\n",
       "│ 100002     ┆ male   ┆ male        ┆ White       ┆ 0       ┆ 1          ┆ Undergradu ┆ Heterosexu │\n",
       "│            ┆        ┆             ┆             ┆         ┆            ┆ ate        ┆ al         │\n",
       "│ 100003     ┆ female ┆ female      ┆ Asian       ┆ 0       ┆ 0          ┆ Undergradu ┆ Heterosexu │\n",
       "│            ┆        ┆             ┆             ┆         ┆            ┆ ate        ┆ al         │\n",
       "│ 100004     ┆ male   ┆ male        ┆ White       ┆ 0       ┆ 0          ┆ Undergradu ┆ Heterosexu │\n",
       "│            ┆        ┆             ┆             ┆         ┆            ┆ ate        ┆ al         │\n",
       "│ 100005     ┆ male   ┆ male        ┆ Hispanic or ┆ 0       ┆ 0          ┆ Undergradu ┆ Missing    │\n",
       "│            ┆        ┆             ┆ Latino      ┆         ┆            ┆ ate        ┆            │\n",
       "│ …          ┆ …      ┆ …           ┆ …           ┆ …       ┆ …          ┆ …          ┆ …          │\n",
       "│ 104964     ┆ male   ┆ male        ┆ Asian       ┆ 0       ┆ 0          ┆ Undergradu ┆ Heterosexu │\n",
       "│            ┆        ┆             ┆             ┆         ┆            ┆ ate        ┆ al         │\n",
       "│ 104965     ┆ female ┆ female      ┆ Hispanic or ┆ 0       ┆ 0          ┆ Undergradu ┆ Heterosexu │\n",
       "│            ┆        ┆             ┆ Latino      ┆         ┆            ┆ ate        ┆ al         │\n",
       "│ 104966     ┆ male   ┆ male        ┆ White       ┆ 0       ┆ 0          ┆ Undergradu ┆ Missing    │\n",
       "│            ┆        ┆             ┆             ┆         ┆            ┆ ate        ┆            │\n",
       "│ 104967     ┆ male   ┆ Prefer not  ┆ White       ┆ 0       ┆ 0          ┆ Undergradu ┆ Gay        │\n",
       "│            ┆        ┆ to say      ┆             ┆         ┆            ┆ ate        ┆            │\n",
       "│ 104968     ┆ female ┆ female      ┆ White       ┆ 0       ┆ 0          ┆ Some       ┆ Heterosexu │\n",
       "│            ┆        ┆             ┆             ┆         ┆            ┆ College    ┆ al         │\n",
       "└────────────┴────────┴─────────────┴─────────────┴─────────┴────────────┴────────────┴────────────┘"
      ]
     },
     "metadata": {},
     "output_type": "display_data"
    },
    {
     "data": {
      "text/html": [
       "<div><style>\n",
       ".dataframe > thead > tr,\n",
       ".dataframe > tbody > tr {\n",
       "  text-align: right;\n",
       "  white-space: pre-wrap;\n",
       "}\n",
       "</style>\n",
       "<small>shape: (2_827, 23)</small><table border=\"1\" class=\"dataframe\"><thead><tr><th>EmployeeID</th><th>Survey</th><th>I would recommend my friends or Family to work at TheCompany</th><th>I feel engaged in my work.</th><th>I believe Leadership cares about the employees at TheCompany</th><th>My manager supports me in my role at TheCompany</th><th>TheCompany cares about Diversity, Equity and Inclusion.</th><th>I believe there is room for me to grow at TheCompany</th><th>I work on interesting projects.</th><th>My manager motivates me to work hard.</th><th>I am motivated to work hard at TheCompany.</th><th>I believe I am recognized for the work I do.</th><th>I believe there are good career opportunities for me at TheCompany.</th><th>I believe TheCompany is in a great position in the market for the next few years to be succesful.</th><th>I plan on staying with TheCompany for at least 2 more years.</th><th>I believe I am fairly compensated for my work.</th><th>I believe there is little to not politics at TheCompany</th><th>I feel comfortable going to someone in leadership if there is an issue.</th><th>My values align with the culture at TheCompany</th><th>I know what TheCompany values are at TheCompany</th><th>I feel like I can take off my accrued Paid Time Off (PTO)/Vacation without feeling guilty</th><th>What does TheCompany do well?</th><th>What can TheCompany improve?</th></tr><tr><td>i64</td><td>str</td><td>i64</td><td>i64</td><td>i64</td><td>i64</td><td>i64</td><td>i64</td><td>i64</td><td>i64</td><td>i64</td><td>i64</td><td>i64</td><td>i64</td><td>i64</td><td>i64</td><td>i64</td><td>i64</td><td>i64</td><td>i64</td><td>i64</td><td>str</td><td>str</td></tr></thead><tbody><tr><td>100001</td><td>&quot;2023Q2&quot;</td><td>3</td><td>3</td><td>2</td><td>1</td><td>1</td><td>3</td><td>2</td><td>4</td><td>4</td><td>2</td><td>2</td><td>3</td><td>4</td><td>2</td><td>2</td><td>4</td><td>4</td><td>3</td><td>3</td><td>null</td><td>null</td></tr><tr><td>100002</td><td>&quot;2023Q2&quot;</td><td>3</td><td>4</td><td>2</td><td>4</td><td>2</td><td>4</td><td>4</td><td>2</td><td>2</td><td>4</td><td>4</td><td>3</td><td>1</td><td>5</td><td>1</td><td>2</td><td>4</td><td>3</td><td>1</td><td>null</td><td>null</td></tr><tr><td>100009</td><td>&quot;2023Q2&quot;</td><td>3</td><td>4</td><td>2</td><td>3</td><td>4</td><td>3</td><td>2</td><td>2</td><td>3</td><td>4</td><td>2</td><td>1</td><td>1</td><td>3</td><td>2</td><td>2</td><td>3</td><td>2</td><td>4</td><td>null</td><td>null</td></tr><tr><td>100014</td><td>&quot;2023Q2&quot;</td><td>4</td><td>1</td><td>5</td><td>2</td><td>5</td><td>3</td><td>4</td><td>4</td><td>2</td><td>3</td><td>3</td><td>3</td><td>4</td><td>2</td><td>2</td><td>4</td><td>3</td><td>3</td><td>2</td><td>null</td><td>null</td></tr><tr><td>100018</td><td>&quot;2023Q2&quot;</td><td>4</td><td>1</td><td>1</td><td>1</td><td>2</td><td>3</td><td>1</td><td>3</td><td>2</td><td>3</td><td>4</td><td>4</td><td>3</td><td>2</td><td>4</td><td>3</td><td>2</td><td>2</td><td>3</td><td>null</td><td>null</td></tr><tr><td>&hellip;</td><td>&hellip;</td><td>&hellip;</td><td>&hellip;</td><td>&hellip;</td><td>&hellip;</td><td>&hellip;</td><td>&hellip;</td><td>&hellip;</td><td>&hellip;</td><td>&hellip;</td><td>&hellip;</td><td>&hellip;</td><td>&hellip;</td><td>&hellip;</td><td>&hellip;</td><td>&hellip;</td><td>&hellip;</td><td>&hellip;</td><td>&hellip;</td><td>&hellip;</td><td>&hellip;</td><td>&hellip;</td></tr><tr><td>104964</td><td>&quot;2023Q2&quot;</td><td>3</td><td>3</td><td>3</td><td>4</td><td>2</td><td>1</td><td>4</td><td>4</td><td>2</td><td>1</td><td>2</td><td>4</td><td>4</td><td>1</td><td>4</td><td>2</td><td>3</td><td>2</td><td>3</td><td>null</td><td>null</td></tr><tr><td>104965</td><td>&quot;2023Q2&quot;</td><td>4</td><td>4</td><td>4</td><td>2</td><td>4</td><td>3</td><td>3</td><td>3</td><td>4</td><td>1</td><td>4</td><td>1</td><td>1</td><td>4</td><td>2</td><td>1</td><td>1</td><td>4</td><td>4</td><td>null</td><td>null</td></tr><tr><td>104966</td><td>&quot;2023Q2&quot;</td><td>3</td><td>3</td><td>3</td><td>3</td><td>2</td><td>2</td><td>3</td><td>2</td><td>3</td><td>4</td><td>3</td><td>3</td><td>3</td><td>3</td><td>4</td><td>4</td><td>4</td><td>3</td><td>3</td><td>null</td><td>null</td></tr><tr><td>104967</td><td>&quot;2023Q2&quot;</td><td>3</td><td>1</td><td>4</td><td>4</td><td>4</td><td>3</td><td>3</td><td>4</td><td>5</td><td>3</td><td>4</td><td>4</td><td>2</td><td>3</td><td>2</td><td>4</td><td>3</td><td>4</td><td>3</td><td>null</td><td>null</td></tr><tr><td>104968</td><td>&quot;2023Q2&quot;</td><td>4</td><td>2</td><td>4</td><td>2</td><td>4</td><td>4</td><td>4</td><td>2</td><td>4</td><td>4</td><td>1</td><td>3</td><td>3</td><td>1</td><td>1</td><td>3</td><td>2</td><td>4</td><td>5</td><td>null</td><td>null</td></tr></tbody></table></div>"
      ],
      "text/plain": [
       "shape: (2_827, 23)\n",
       "┌────────────┬────────┬────────────┬───────────┬───┬───────────┬───────────┬───────────┬───────────┐\n",
       "│ EmployeeID ┆ Survey ┆ I would    ┆ I feel    ┆ … ┆ I know    ┆ I feel    ┆ What does ┆ What can  │\n",
       "│ ---        ┆ ---    ┆ recommend  ┆ engaged   ┆   ┆ what TheC ┆ like I    ┆ TheCompan ┆ TheCompan │\n",
       "│ i64        ┆ str    ┆ my friends ┆ in my     ┆   ┆ ompany    ┆ can take  ┆ y do      ┆ y         │\n",
       "│            ┆        ┆ o…         ┆ work.     ┆   ┆ values …  ┆ off my …  ┆ well?     ┆ improve?  │\n",
       "│            ┆        ┆ ---        ┆ ---       ┆   ┆ ---       ┆ ---       ┆ ---       ┆ ---       │\n",
       "│            ┆        ┆ i64        ┆ i64       ┆   ┆ i64       ┆ i64       ┆ str       ┆ str       │\n",
       "╞════════════╪════════╪════════════╪═══════════╪═══╪═══════════╪═══════════╪═══════════╪═══════════╡\n",
       "│ 100001     ┆ 2023Q2 ┆ 3          ┆ 3         ┆ … ┆ 3         ┆ 3         ┆ null      ┆ null      │\n",
       "│ 100002     ┆ 2023Q2 ┆ 3          ┆ 4         ┆ … ┆ 3         ┆ 1         ┆ null      ┆ null      │\n",
       "│ 100009     ┆ 2023Q2 ┆ 3          ┆ 4         ┆ … ┆ 2         ┆ 4         ┆ null      ┆ null      │\n",
       "│ 100014     ┆ 2023Q2 ┆ 4          ┆ 1         ┆ … ┆ 3         ┆ 2         ┆ null      ┆ null      │\n",
       "│ 100018     ┆ 2023Q2 ┆ 4          ┆ 1         ┆ … ┆ 2         ┆ 3         ┆ null      ┆ null      │\n",
       "│ …          ┆ …      ┆ …          ┆ …         ┆ … ┆ …         ┆ …         ┆ …         ┆ …         │\n",
       "│ 104964     ┆ 2023Q2 ┆ 3          ┆ 3         ┆ … ┆ 2         ┆ 3         ┆ null      ┆ null      │\n",
       "│ 104965     ┆ 2023Q2 ┆ 4          ┆ 4         ┆ … ┆ 4         ┆ 4         ┆ null      ┆ null      │\n",
       "│ 104966     ┆ 2023Q2 ┆ 3          ┆ 3         ┆ … ┆ 3         ┆ 3         ┆ null      ┆ null      │\n",
       "│ 104967     ┆ 2023Q2 ┆ 3          ┆ 1         ┆ … ┆ 4         ┆ 3         ┆ null      ┆ null      │\n",
       "│ 104968     ┆ 2023Q2 ┆ 4          ┆ 2         ┆ … ┆ 4         ┆ 5         ┆ null      ┆ null      │\n",
       "└────────────┴────────┴────────────┴───────────┴───┴───────────┴───────────┴───────────┴───────────┘"
      ]
     },
     "metadata": {},
     "output_type": "display_data"
    },
    {
     "data": {
      "text/html": [
       "<div><style>\n",
       ".dataframe > thead > tr,\n",
       ".dataframe > tbody > tr {\n",
       "  text-align: right;\n",
       "  white-space: pre-wrap;\n",
       "}\n",
       "</style>\n",
       "<small>shape: (54, 6)</small><table border=\"1\" class=\"dataframe\"><thead><tr><th>Department</th><th>Job_title</th><th>Job_Profile</th><th> Compensation </th><th>Level</th><th>Bonus %</th></tr><tr><td>str</td><td>str</td><td>str</td><td>str</td><td>str</td><td>f64</td></tr></thead><tbody><tr><td>&quot;Corporate&quot;</td><td>&quot;CEO&quot;</td><td>&quot;JP_1000&quot;</td><td>&quot; 500,000.00 &quot;</td><td>&quot;CSuite&quot;</td><td>1.0</td></tr><tr><td>&quot;Corporate&quot;</td><td>&quot;HR Manager&quot;</td><td>&quot;JP_1001&quot;</td><td>&quot; 100,000.00 &quot;</td><td>&quot;Manager&quot;</td><td>0.2</td></tr><tr><td>&quot;Corporate&quot;</td><td>&quot;AR Specialist&quot;</td><td>&quot;JP_1002&quot;</td><td>&quot; 65,000.00 &quot;</td><td>&quot;Individual Contributor&quot;</td><td>0.15</td></tr><tr><td>&quot;Corporate&quot;</td><td>&quot;AP Specialist&quot;</td><td>&quot;JP_1003&quot;</td><td>&quot; 65,000.00 &quot;</td><td>&quot;Individual Contributor&quot;</td><td>0.15</td></tr><tr><td>&quot;Corporate&quot;</td><td>&quot;FP&amp;A Analyst&quot;</td><td>&quot;JP_1004&quot;</td><td>&quot; 70,000.00 &quot;</td><td>&quot;Individual Contributor&quot;</td><td>0.15</td></tr><tr><td>&hellip;</td><td>&hellip;</td><td>&hellip;</td><td>&hellip;</td><td>&hellip;</td><td>&hellip;</td></tr><tr><td>&quot;Corporate&quot;</td><td>&quot;Chief Human Resources Officer&quot;</td><td>&quot;JP_1049&quot;</td><td>&quot; 380,000.00 &quot;</td><td>&quot;CSuite&quot;</td><td>0.5</td></tr><tr><td>&quot;Corporate&quot;</td><td>&quot;Senior, Finance&quot;</td><td>&quot;JP_1050&quot;</td><td>&quot; 110,000.00 &quot;</td><td>&quot;Senior&quot;</td><td>0.15</td></tr><tr><td>&quot;Corporate&quot;</td><td>&quot;Director, HR&quot;</td><td>&quot;JP_1051&quot;</td><td>&quot; 180,000.00 &quot;</td><td>&quot;Director&quot;</td><td>0.2</td></tr><tr><td>&quot;Corporate&quot;</td><td>&quot;Director, Finance&quot;</td><td>&quot;JP_1052&quot;</td><td>&quot; 190,000.00 &quot;</td><td>&quot;Director&quot;</td><td>0.2</td></tr><tr><td>&quot;Customer Service&quot;</td><td>&quot;Chieft Customer Officer&quot;</td><td>&quot;JP_1053&quot;</td><td>&quot; 380,000.00 &quot;</td><td>&quot;CSuite&quot;</td><td>0.5</td></tr></tbody></table></div>"
      ],
      "text/plain": [
       "shape: (54, 6)\n",
       "┌──────────────────┬────────────────────────┬─────────────┬────────────────┬─────────────┬─────────┐\n",
       "│ Department       ┆ Job_title              ┆ Job_Profile ┆  Compensation  ┆ Level       ┆ Bonus % │\n",
       "│ ---              ┆ ---                    ┆ ---         ┆ ---            ┆ ---         ┆ ---     │\n",
       "│ str              ┆ str                    ┆ str         ┆ str            ┆ str         ┆ f64     │\n",
       "╞══════════════════╪════════════════════════╪═════════════╪════════════════╪═════════════╪═════════╡\n",
       "│ Corporate        ┆ CEO                    ┆ JP_1000     ┆  500,000.00    ┆ CSuite      ┆ 1.0     │\n",
       "│ Corporate        ┆ HR Manager             ┆ JP_1001     ┆  100,000.00    ┆ Manager     ┆ 0.2     │\n",
       "│ Corporate        ┆ AR Specialist          ┆ JP_1002     ┆  65,000.00     ┆ Individual  ┆ 0.15    │\n",
       "│                  ┆                        ┆             ┆                ┆ Contributor ┆         │\n",
       "│ Corporate        ┆ AP Specialist          ┆ JP_1003     ┆  65,000.00     ┆ Individual  ┆ 0.15    │\n",
       "│                  ┆                        ┆             ┆                ┆ Contributor ┆         │\n",
       "│ Corporate        ┆ FP&A Analyst           ┆ JP_1004     ┆  70,000.00     ┆ Individual  ┆ 0.15    │\n",
       "│                  ┆                        ┆             ┆                ┆ Contributor ┆         │\n",
       "│ …                ┆ …                      ┆ …           ┆ …              ┆ …           ┆ …       │\n",
       "│ Corporate        ┆ Chief Human Resources  ┆ JP_1049     ┆  380,000.00    ┆ CSuite      ┆ 0.5     │\n",
       "│                  ┆ Officer                ┆             ┆                ┆             ┆         │\n",
       "│ Corporate        ┆ Senior, Finance        ┆ JP_1050     ┆  110,000.00    ┆ Senior      ┆ 0.15    │\n",
       "│ Corporate        ┆ Director, HR           ┆ JP_1051     ┆  180,000.00    ┆ Director    ┆ 0.2     │\n",
       "│ Corporate        ┆ Director, Finance      ┆ JP_1052     ┆  190,000.00    ┆ Director    ┆ 0.2     │\n",
       "│ Customer Service ┆ Chieft Customer        ┆ JP_1053     ┆  380,000.00    ┆ CSuite      ┆ 0.5     │\n",
       "│                  ┆ Officer                ┆             ┆                ┆             ┆         │\n",
       "└──────────────────┴────────────────────────┴─────────────┴────────────────┴─────────────┴─────────┘"
      ]
     },
     "metadata": {},
     "output_type": "display_data"
    },
    {
     "data": {
      "text/html": [
       "<div><style>\n",
       ".dataframe > thead > tr,\n",
       ".dataframe > tbody > tr {\n",
       "  text-align: right;\n",
       "  white-space: pre-wrap;\n",
       "}\n",
       "</style>\n",
       "<small>shape: (4_969, 25)</small><table border=\"1\" class=\"dataframe\"><thead><tr><th>��E\u0000m\u0000p\u0000l\u0000o\u0000y\u0000e\u0000e\u0000I\u0000D\u0000</th><th>\u0000F\u0000i\u0000r\u0000s\u0000t\u0000_\u0000N\u0000a\u0000m\u0000e\u0000</th><th>\u0000S\u0000u\u0000r\u0000n\u0000a\u0000m\u0000e\u0000</th><th>\u0000S\u0000t\u0000r\u0000e\u0000e\u0000t\u0000A\u0000d\u0000d\u0000r\u0000e\u0000s\u0000s\u0000</th><th>\u0000C\u0000i\u0000t\u0000y\u0000</th><th>\u0000S\u0000t\u0000a\u0000t\u0000e\u0000</th><th>\u0000S\u0000t\u0000a\u0000t\u0000e\u0000F\u0000u\u0000l\u0000l\u0000</th><th>\u0000Z\u0000i\u0000p\u0000C\u0000o\u0000d\u0000e\u0000</th><th>\u0000C\u0000o\u0000u\u0000n\u0000t\u0000r\u0000y\u0000</th><th>\u0000C\u0000o\u0000u\u0000n\u0000t\u0000r\u0000y\u0000F\u0000u\u0000l\u0000l\u0000</th><th>\u0000A\u0000g\u0000e\u0000</th><th>\u0000O\u0000f\u0000f\u0000i\u0000c\u0000e\u0000</th><th>\u0000S\u0000t\u0000a\u0000r\u0000t\u0000_\u0000D\u0000a\u0000t\u0000e\u0000</th><th>\u0000T\u0000e\u0000r\u0000m\u0000i\u0000n\u0000a\u0000t\u0000i\u0000o\u0000n\u0000_\u0000D\u0000a\u0000t\u0000e\u0000</th><th>\u0000O\u0000f\u0000f\u0000i\u0000c\u0000e\u0000_\u0000T\u0000y\u0000p\u0000e\u0000</th><th>\u0000D\u0000e\u0000p\u0000a\u0000r\u0000t\u0000m\u0000e\u0000n\u0000t\u0000</th><th>\u0000C\u0000u\u0000r\u0000r\u0000e\u0000n\u0000c\u0000y\u0000</th><th>\u0000B\u0000o\u0000n\u0000u\u0000s\u0000_\u0000p\u0000c\u0000t\u0000</th><th>\u0000J\u0000o\u0000b\u0000_\u0000t\u0000i\u0000t\u0000l\u0000e\u0000</th><th>\u0000D\u0000O\u0000B\u0000</th><th>\u0000l\u0000e\u0000v\u0000e\u0000l\u0000</th><th>\u0000S\u0000a\u0000l\u0000a\u0000r\u0000y\u0000</th><th>\u0000A\u0000c\u0000t\u0000i\u0000v\u0000e\u0000 \u0000S\u0000t\u0000a\u0000t\u0000u\u0000s\u0000</th><th>\u0000J\u0000o\u0000b\u0000_\u0000P\u0000r\u0000o\u0000f\u0000i\u0000l\u0000e\u0000</th><th>\u0000N\u0000o\u0000t\u0000e\u0000s\u0000\r\u0000</th></tr><tr><td>str</td><td>str</td><td>str</td><td>str</td><td>str</td><td>str</td><td>str</td><td>str</td><td>str</td><td>str</td><td>str</td><td>str</td><td>str</td><td>str</td><td>str</td><td>str</td><td>str</td><td>str</td><td>str</td><td>str</td><td>str</td><td>str</td><td>str</td><td>str</td><td>str</td></tr></thead><tbody><tr><td>&quot;\u00001\u00000\u00000\u00000\u00000\u00001\u0000&quot;</td><td>&quot;\u0000P\u0000a\u0000t\u0000r\u0000i\u0000c\u0000e\u0000&quot;</td><td>&quot;\u0000M\u0000o\u0000o\u0000r\u0000e\u0000&quot;</td><td>&quot;\u00001\u00004\u00002\u00007\u0000 \u0000B\u0000u\u0000c\u0000k\u0000h\u0000a\u0000n\u0000n\u0000a\u0000n…</td><td>&quot;\u0000N\u0000o\u0000r\u0000t\u0000h\u0000 \u0000S\u0000y\u0000r\u0000a\u0000c\u0000u\u0000s\u0000e\u0000&quot;</td><td>&quot;\u0000N\u0000Y\u0000&quot;</td><td>&quot;\u0000N\u0000e\u0000w\u0000 \u0000Y\u0000o\u0000r\u0000k\u0000&quot;</td><td>&quot;\u00001\u00003\u00002\u00001\u00002\u0000&quot;</td><td>&quot;\u0000U\u0000S\u0000&quot;</td><td>&quot;\u0000U\u0000n\u0000i\u0000t\u0000e\u0000d\u0000 \u0000S\u0000t\u0000a\u0000t\u0000e\u0000s\u0000&quot;</td><td>&quot;\u00003\u00005\u0000&quot;</td><td>&quot;\u0000N\u0000Y\u0000C\u0000&quot;</td><td>&quot;\u00005\u0000/\u00004\u0000/\u00002\u00000\u00000\u00009\u0000&quot;</td><td>&quot;\u00001\u00002\u0000/\u00001\u00002\u0000/\u00002\u00009\u00009\u00009\u0000&quot;</td><td>&quot;\u0000C\u0000o\u0000r\u0000p\u0000o\u0000r\u0000a\u0000t\u0000e\u0000&quot;</td><td>&quot;\u0000C\u0000o\u0000r\u0000p\u0000o\u0000r\u0000a\u0000t\u0000e\u0000&quot;</td><td>&quot;\u0000U\u0000S\u0000D\u0000&quot;</td><td>&quot;\u00001\u0000&quot;</td><td>&quot;\u0000C\u0000E\u0000O\u0000&quot;</td><td>&quot;\u00001\u0000/\u00005\u0000/\u00001\u00009\u00008\u00006\u0000&quot;</td><td>&quot;\u0000C\u0000S\u0000u\u0000i\u0000t\u0000e\u0000&quot;</td><td>&quot;\u00005\u00000\u00000\u00000\u00000\u00000\u0000&quot;</td><td>&quot;\u00001\u0000&quot;</td><td>&quot;\u0000J\u0000P\u0000_\u00001\u00000\u00000\u00000\u0000&quot;</td><td>&quot;\u0000C\u0000h\u0000a\u0000n\u0000g\u0000e\u0000s\u0000 \u0000f\u0000o\u0000r\u0000 \u00002\u00000\u00002…</td></tr><tr><td>&quot;\u00001\u00000\u00000\u00000\u00000\u00002\u0000&quot;</td><td>&quot;\u0000D\u0000a\u0000v\u0000i\u0000d\u0000&quot;</td><td>&quot;\u0000R\u0000i\u0000c\u0000k\u0000a\u0000r\u0000d\u0000s\u0000&quot;</td><td>&quot;\u00004\u00002\u00006\u00005\u0000 \u0000G\u0000r\u0000a\u0000y\u0000s\u0000t\u0000o\u0000n\u0000e\u0000 …</td><td>&quot;\u0000M\u0000a\u0000c\u0000o\u0000n\u0000&quot;</td><td>&quot;\u0000G\u0000A\u0000&quot;</td><td>&quot;\u0000G\u0000e\u0000o\u0000r\u0000g\u0000i\u0000a\u0000&quot;</td><td>&quot;\u00003\u00001\u00002\u00000\u00006\u0000&quot;</td><td>&quot;\u0000U\u0000S\u0000&quot;</td><td>&quot;\u0000U\u0000n\u0000i\u0000t\u0000e\u0000d\u0000 \u0000S\u0000t\u0000a\u0000t\u0000e\u0000s\u0000&quot;</td><td>&quot;\u00004\u00009\u0000&quot;</td><td>&quot;\u0000N\u0000Y\u0000C\u0000&quot;</td><td>&quot;\u00005\u0000/\u00004\u0000/\u00002\u00000\u00000\u00009\u0000&quot;</td><td>&quot;\u00001\u00002\u0000/\u00001\u00002\u0000/\u00002\u00009\u00009\u00009\u0000&quot;</td><td>&quot;\u0000C\u0000o\u0000r\u0000p\u0000o\u0000r\u0000a\u0000t\u0000e\u0000&quot;</td><td>&quot;\u0000C\u0000o\u0000r\u0000p\u0000o\u0000r\u0000a\u0000t\u0000e\u0000&quot;</td><td>&quot;\u0000U\u0000S\u0000D\u0000&quot;</td><td>&quot;\u00000\u0000.\u00002\u0000&quot;</td><td>&quot;\u0000H\u0000R\u0000 \u0000M\u0000a\u0000n\u0000a\u0000g\u0000e\u0000r\u0000&quot;</td><td>&quot;\u00007\u0000/\u00001\u00003\u0000/\u00001\u00009\u00007\u00001\u0000&quot;</td><td>&quot;\u0000M\u0000a\u0000n\u0000a\u0000g\u0000e\u0000r\u0000&quot;</td><td>&quot;\u00007\u00000\u00000\u00000\u00000\u0000&quot;</td><td>&quot;\u00001\u0000&quot;</td><td>&quot;\u0000J\u0000P\u0000_\u00001\u00000\u00000\u00001\u0000&quot;</td><td>&quot;\u0000C\u0000h\u0000a\u0000n\u0000g\u0000e\u0000s\u0000 \u0000f\u0000o\u0000r\u0000 \u00002\u00000\u00002…</td></tr><tr><td>&quot;\u00001\u00000\u00000\u00000\u00000\u00003\u0000&quot;</td><td>&quot;\u0000G\u0000r\u0000a\u0000c\u0000e\u0000&quot;</td><td>&quot;\u0000M\u0000a\u0000l\u0000d\u0000o\u0000n\u0000a\u0000d\u0000o\u0000&quot;</td><td>&quot;\u00001\u00006\u00008\u00000\u0000 \u0000H\u0000u\u0000d\u0000s\u0000o\u0000n\u0000 \u0000S\u0000t\u0000r…</td><td>&quot;\u0000W\u0000e\u0000e\u0000h\u0000a\u0000w\u0000k\u0000e\u0000n\u0000&quot;</td><td>&quot;\u0000N\u0000J\u0000&quot;</td><td>&quot;\u0000N\u0000e\u0000w\u0000 \u0000J\u0000e\u0000r\u0000s\u0000e\u0000y\u0000&quot;</td><td>&quot;\u00000\u00007\u00000\u00008\u00007\u0000&quot;</td><td>&quot;\u0000U\u0000S\u0000&quot;</td><td>&quot;\u0000U\u0000n\u0000i\u0000t\u0000e\u0000d\u0000 \u0000S\u0000t\u0000a\u0000t\u0000e\u0000s\u0000&quot;</td><td>&quot;\u00003\u00002\u0000&quot;</td><td>&quot;\u0000N\u0000Y\u0000C\u0000&quot;</td><td>&quot;\u00005\u0000/\u00001\u00008\u0000/\u00002\u00000\u00000\u00009\u0000&quot;</td><td>&quot;\u00006\u0000/\u00005\u0000/\u00002\u00000\u00001\u00003\u0000&quot;</td><td>&quot;\u0000C\u0000o\u0000r\u0000p\u0000o\u0000r\u0000a\u0000t\u0000e\u0000&quot;</td><td>&quot;\u0000M\u0000a\u0000r\u0000k\u0000e\u0000t\u0000i\u0000n\u0000g\u0000&quot;</td><td>&quot;\u0000U\u0000S\u0000D\u0000&quot;</td><td>&quot;\u00000\u0000.\u00001\u00005\u0000&quot;</td><td>&quot;\u0000G\u0000r\u0000a\u0000p\u0000h\u0000i\u0000c\u0000 \u0000D\u0000e\u0000s\u0000i\u0000g\u0000n\u0000e…</td><td>&quot;\u00001\u0000/\u00002\u00005\u0000/\u00001\u00009\u00008\u00009\u0000&quot;</td><td>&quot;\u0000I\u0000n\u0000d\u0000i\u0000v\u0000i\u0000d\u0000u\u0000a\u0000l\u0000 \u0000C\u0000o\u0000n\u0000t…</td><td>&quot;\u00007\u00007\u00000\u00000\u00000\u0000&quot;</td><td>&quot;\u00000\u0000&quot;</td><td>&quot;\u0000J\u0000P\u0000_\u00001\u00000\u00002\u00002\u0000&quot;</td><td>&quot;\u0000C\u0000h\u0000a\u0000n\u0000g\u0000e\u0000s\u0000 \u0000f\u0000o\u0000r\u0000 \u00002\u00000\u00002…</td></tr><tr><td>&quot;\u00001\u00000\u00000\u00000\u00000\u00004\u0000&quot;</td><td>&quot;\u0000J\u0000u\u0000s\u0000t\u0000i\u0000n\u0000&quot;</td><td>&quot;\u0000E\u0000d\u0000g\u0000i\u0000n\u0000&quot;</td><td>&quot;\u00001\u00002\u00006\u00002\u0000 \u0000L\u0000i\u0000m\u0000e\u0000r\u0000 \u0000S\u0000t\u0000r\u0000e…</td><td>&quot;\u0000R\u0000o\u0000m\u0000e\u0000&quot;</td><td>&quot;\u0000G\u0000A\u0000&quot;</td><td>&quot;\u0000G\u0000e\u0000o\u0000r\u0000g\u0000i\u0000a\u0000&quot;</td><td>&quot;\u00003\u00000\u00001\u00006\u00005\u0000&quot;</td><td>&quot;\u0000U\u0000S\u0000&quot;</td><td>&quot;\u0000U\u0000n\u0000i\u0000t\u0000e\u0000d\u0000 \u0000S\u0000t\u0000a\u0000t\u0000e\u0000s\u0000&quot;</td><td>&quot;\u00002\u00005\u0000&quot;</td><td>&quot;\u0000B\u0000o\u0000u\u0000l\u0000d\u0000e\u0000r\u0000&quot;</td><td>&quot;\u00006\u0000/\u00002\u00002\u0000/\u00002\u00000\u00000\u00009\u0000&quot;</td><td>&quot;\u00001\u00000\u0000/\u00001\u00006\u0000/\u00002\u00000\u00001\u00003\u0000&quot;</td><td>&quot;\u0000C\u0000o\u0000r\u0000p\u0000o\u0000r\u0000a\u0000t\u0000e\u0000&quot;</td><td>&quot;\u0000T\u0000e\u0000c\u0000h\u0000n\u0000o\u0000l\u0000o\u0000g\u0000y\u0000&quot;</td><td>&quot;\u0000U\u0000S\u0000D\u0000&quot;</td><td>&quot;\u00000\u0000.\u00005\u0000&quot;</td><td>&quot;\u0000C\u0000T\u0000O\u0000&quot;</td><td>&quot;\u00005\u0000/\u00001\u0000/\u00001\u00009\u00009\u00006\u0000&quot;</td><td>&quot;\u0000C\u0000S\u0000u\u0000i\u0000t\u0000e\u0000&quot;</td><td>&quot;\u00004\u00000\u00000\u00000\u00000\u00000\u0000&quot;</td><td>&quot;\u00000\u0000&quot;</td><td>&quot;\u0000J\u0000P\u0000_\u00001\u00000\u00003\u00006\u0000&quot;</td><td>&quot;\u0000C\u0000h\u0000a\u0000n\u0000g\u0000e\u0000s\u0000 \u0000f\u0000o\u0000r\u0000 \u00002\u00000\u00002…</td></tr><tr><td>&quot;\u00001\u00000\u00000\u00000\u00000\u00005\u0000&quot;</td><td>&quot;\u0000B\u0000e\u0000n\u0000j\u0000a\u0000m\u0000i\u0000n\u0000&quot;</td><td>&quot;\u0000V\u0000a\u0000r\u0000g\u0000a\u0000s\u0000&quot;</td><td>&quot;\u00002\u00004\u00003\u00001\u0000 \u0000R\u0000a\u0000i\u0000n\u0000b\u0000o\u0000w\u0000 \u0000R\u0000o…</td><td>&quot;\u0000S\u0000a\u0000n\u0000t\u0000a\u0000 \u0000A\u0000n\u0000a\u0000&quot;</td><td>&quot;\u0000C\u0000A\u0000&quot;</td><td>&quot;\u0000C\u0000a\u0000l\u0000i\u0000f\u0000o\u0000r\u0000n\u0000i\u0000a\u0000&quot;</td><td>&quot;\u00009\u00002\u00007\u00000\u00005\u0000&quot;</td><td>&quot;\u0000U\u0000S\u0000&quot;</td><td>&quot;\u0000U\u0000n\u0000i\u0000t\u0000e\u0000d\u0000 \u0000S\u0000t\u0000a\u0000t\u0000e\u0000s\u0000&quot;</td><td>&quot;\u00004\u00009\u0000&quot;</td><td>&quot;\u0000N\u0000Y\u0000C\u0000&quot;</td><td>&quot;\u00007\u0000/\u00001\u00003\u0000/\u00002\u00000\u00000\u00009\u0000&quot;</td><td>&quot;\u00001\u0000/\u00001\u00000\u0000/\u00002\u00000\u00001\u00001\u0000&quot;</td><td>&quot;\u0000C\u0000o\u0000r\u0000p\u0000o\u0000r\u0000a\u0000t\u0000e\u0000&quot;</td><td>&quot;\u0000C\u0000u\u0000s\u0000t\u0000o\u0000m\u0000e\u0000r\u0000 \u0000S\u0000e\u0000r\u0000v\u0000i\u0000c…</td><td>&quot;\u0000U\u0000S\u0000D\u0000&quot;</td><td>&quot;\u00000\u0000.\u00001\u00005\u0000&quot;</td><td>&quot;\u0000A\u0000s\u0000s\u0000o\u0000c\u0000i\u0000a\u0000t\u0000e\u0000 \u0000A\u0000c\u0000c\u0000o\u0000u…</td><td>&quot;\u00005\u0000/\u00005\u0000/\u00001\u00009\u00007\u00002\u0000&quot;</td><td>&quot;\u0000M\u0000a\u0000n\u0000a\u0000g\u0000e\u0000r\u0000&quot;</td><td>&quot;\u00005\u00001\u00000\u00000\u00000\u0000&quot;</td><td>&quot;\u00000\u0000&quot;</td><td>&quot;\u0000J\u0000P\u0000_\u00001\u00000\u00001\u00005\u0000&quot;</td><td>&quot;\u0000C\u0000h\u0000a\u0000n\u0000g\u0000e\u0000s\u0000 \u0000f\u0000o\u0000r\u0000 \u00002\u00000\u00002…</td></tr><tr><td>&hellip;</td><td>&hellip;</td><td>&hellip;</td><td>&hellip;</td><td>&hellip;</td><td>&hellip;</td><td>&hellip;</td><td>&hellip;</td><td>&hellip;</td><td>&hellip;</td><td>&hellip;</td><td>&hellip;</td><td>&hellip;</td><td>&hellip;</td><td>&hellip;</td><td>&hellip;</td><td>&hellip;</td><td>&hellip;</td><td>&hellip;</td><td>&hellip;</td><td>&hellip;</td><td>&hellip;</td><td>&hellip;</td><td>&hellip;</td><td>&hellip;</td></tr><tr><td>&quot;\u00001\u00000\u00004\u00009\u00006\u00005\u0000&quot;</td><td>&quot;\u0000T\u0000e\u0000r\u0000e\u0000s\u0000a\u0000&quot;</td><td>&quot;\u0000N\u0000a\u0000t\u0000i\u0000o\u0000n\u0000&quot;</td><td>&quot;\u00003\u00003\u00003\u00006\u0000 \u0000F\u0000l\u0000e\u0000m\u0000i\u0000n\u0000g\u0000 \u0000W\u0000a…</td><td>&quot;\u0000R\u0000i\u0000c\u0000h\u0000m\u0000o\u0000n\u0000d\u0000&quot;</td><td>&quot;\u0000V\u0000i\u0000r\u0000g\u0000i\u0000n\u0000i\u0000a\u0000&quot;</td><td>&quot;\u0000V\u0000i\u0000r\u0000g\u0000i\u0000n\u0000i\u0000a\u0000&quot;</td><td>&quot;\u00002\u00003\u00002\u00003\u00003\u0000&quot;</td><td>&quot;\u0000U\u0000S\u0000&quot;</td><td>&quot;\u0000U\u0000n\u0000i\u0000t\u0000e\u0000d\u0000 \u0000S\u0000t\u0000a\u0000t\u0000e\u0000s\u0000&quot;</td><td>&quot;\u00004\u00006\u0000&quot;</td><td>&quot;\u0000B\u0000o\u0000u\u0000l\u0000d\u0000e\u0000r\u0000&quot;</td><td>&quot;\u00001\u0000/\u00002\u00005\u0000/\u00002\u00000\u00002\u00001\u0000&quot;</td><td>&quot;\u00001\u00002\u0000/\u00001\u00002\u0000/\u00002\u00009\u00009\u00009\u0000&quot;</td><td>&quot;\u0000T\u0000e\u0000c\u0000h\u0000n\u0000o\u0000l\u0000o\u0000g\u0000y\u0000&quot;</td><td>&quot;\u0000T\u0000e\u0000c\u0000h\u0000n\u0000o\u0000l\u0000o\u0000g\u0000y\u0000&quot;</td><td>&quot;\u0000U\u0000S\u0000D\u0000&quot;</td><td>&quot;\u00000\u0000.\u00001\u00005\u0000&quot;</td><td>&quot;\u0000S\u0000o\u0000f\u0000t\u0000w\u0000a\u0000r\u0000e\u0000 \u0000E\u0000n\u0000g\u0000i\u0000n\u0000e…</td><td>&quot;\u00007\u0000/\u00005\u0000/\u00001\u00009\u00007\u00005\u0000&quot;</td><td>&quot;\u0000I\u0000n\u0000d\u0000i\u0000v\u0000i\u0000d\u0000u\u0000a\u0000l\u0000 \u0000C\u0000o\u0000n\u0000t…</td><td>&quot;\u00007\u00007\u00000\u00000\u00000\u0000&quot;</td><td>&quot;\u00001\u0000&quot;</td><td>&quot;\u0000J\u0000P\u0000_\u00001\u00000\u00003\u00008\u0000&quot;</td><td>&quot;\u0000&quot;\u0000C\u0000h\u0000a\u0000n\u0000g\u0000e\u0000s\u0000 \u0000f\u0000o\u0000r\u0000 \u00002\u00000…</td></tr><tr><td>&quot;\u00001\u00000\u00004\u00009\u00006\u00006\u0000&quot;</td><td>&quot;\u0000L\u0000a\u0000s\u0000h\u0000a\u0000n\u0000d\u0000r\u0000a\u0000&quot;</td><td>&quot;\u0000H\u0000a\u0000l\u0000l\u0000&quot;</td><td>&quot;\u00002\u00002\u00006\u0000 \u0000W\u0000h\u0000i\u0000t\u0000e\u0000 \u0000R\u0000i\u0000v\u0000e\u0000r…</td><td>&quot;\u0000S\u0000a\u0000l\u0000t\u0000 \u0000L\u0000a\u0000k\u0000e\u0000 \u0000C\u0000i\u0000t\u0000y\u0000&quot;</td><td>&quot;\u0000U\u0000t\u0000a\u0000h\u0000&quot;</td><td>&quot;\u0000U\u0000t\u0000a\u0000h\u0000&quot;</td><td>&quot;\u00008\u00004\u00001\u00001\u00001\u0000&quot;</td><td>&quot;\u0000U\u0000S\u0000&quot;</td><td>&quot;\u0000U\u0000n\u0000i\u0000t\u0000e\u0000d\u0000 \u0000S\u0000t\u0000a\u0000t\u0000e\u0000s\u0000&quot;</td><td>&quot;\u00003\u00009\u0000&quot;</td><td>&quot;\u0000S\u0000a\u0000n\u0000J\u0000o\u0000s\u0000e\u0000&quot;</td><td>&quot;\u00008\u0000/\u00002\u00003\u0000/\u00002\u00000\u00002\u00001\u0000&quot;</td><td>&quot;\u00001\u00002\u0000/\u00001\u00002\u0000/\u00002\u00009\u00009\u00009\u0000&quot;</td><td>&quot;\u0000C\u0000o\u0000r\u0000p\u0000o\u0000r\u0000a\u0000t\u0000e\u0000&quot;</td><td>&quot;\u0000S\u0000a\u0000l\u0000e\u0000s\u0000&quot;</td><td>&quot;\u0000U\u0000S\u0000D\u0000&quot;</td><td>&quot;\u00000\u0000.\u00001\u00005\u0000&quot;</td><td>&quot;\u0000S\u0000a\u0000l\u0000e\u0000s\u0000 \u0000T\u0000e\u0000a\u0000m\u0000 \u0000L\u0000e\u0000a\u0000d…</td><td>&quot;\u00004\u0000/\u00003\u0000/\u00001\u00009\u00008\u00002\u0000&quot;</td><td>&quot;\u0000S\u0000e\u0000n\u0000i\u0000o\u0000r\u0000&quot;</td><td>&quot;\u00008\u00005\u00005\u00000\u00000\u0000&quot;</td><td>&quot;\u00001\u0000&quot;</td><td>&quot;\u0000J\u0000P\u0000_\u00001\u00000\u00003\u00004\u0000&quot;</td><td>&quot;\u0000&quot;\u0000C\u0000h\u0000a\u0000n\u0000g\u0000e\u0000s\u0000 \u0000f\u0000o\u0000r\u0000 \u00002\u00000…</td></tr><tr><td>&quot;\u00001\u00000\u00004\u00009\u00006\u00007\u0000&quot;</td><td>&quot;\u0000C\u0000l\u0000a\u0000r\u0000a\u0000&quot;</td><td>&quot;\u0000W\u0000e\u0000i\u0000s\u0000b\u0000e\u0000r\u0000g\u0000&quot;</td><td>&quot;\u00003\u00003\u00001\u00008\u0000 \u0000M\u0000a\u0000x\u0000w\u0000e\u0000l\u0000l\u0000 \u0000F\u0000a…</td><td>&quot;\u0000C\u0000h\u0000i\u0000c\u0000o\u0000&quot;</td><td>&quot;\u0000C\u0000a\u0000l\u0000i\u0000f\u0000o\u0000r\u0000n\u0000i\u0000a\u0000&quot;</td><td>&quot;\u0000C\u0000a\u0000l\u0000i\u0000f\u0000o\u0000r\u0000n\u0000i\u0000a\u0000&quot;</td><td>&quot;\u00009\u00005\u00009\u00002\u00006\u0000&quot;</td><td>&quot;\u0000U\u0000S\u0000&quot;</td><td>&quot;\u0000U\u0000n\u0000i\u0000t\u0000e\u0000d\u0000 \u0000S\u0000t\u0000a\u0000t\u0000e\u0000s\u0000&quot;</td><td>&quot;\u00002\u00000\u0000&quot;</td><td>&quot;\u0000A\u0000u\u0000s\u0000t\u0000i\u0000n\u0000&quot;</td><td>&quot;\u00002\u0000/\u00001\u0000/\u00002\u00000\u00002\u00001\u0000&quot;</td><td>&quot;\u00001\u00002\u0000/\u00001\u00002\u0000/\u00002\u00009\u00009\u00009\u0000&quot;</td><td>&quot;\u0000T\u0000e\u0000c\u0000h\u0000n\u0000o\u0000l\u0000o\u0000g\u0000y\u0000&quot;</td><td>&quot;\u0000T\u0000e\u0000c\u0000h\u0000n\u0000o\u0000l\u0000o\u0000g\u0000y\u0000&quot;</td><td>&quot;\u0000U\u0000S\u0000D\u0000&quot;</td><td>&quot;\u00000\u0000.\u00001\u00005\u0000&quot;</td><td>&quot;\u0000S\u0000e\u0000n\u0000i\u0000o\u0000r\u0000 \u0000S\u0000o\u0000f\u0000t\u0000w\u0000a\u0000r\u0000e…</td><td>&quot;\u00006\u0000/\u00001\u00008\u0000/\u00002\u00000\u00000\u00001\u0000&quot;</td><td>&quot;\u0000S\u0000e\u0000n\u0000i\u0000o\u0000r\u0000&quot;</td><td>&quot;\u00009\u00008\u00000\u00000\u00000\u0000&quot;</td><td>&quot;\u00001\u0000&quot;</td><td>&quot;\u0000J\u0000P\u0000_\u00001\u00000\u00004\u00000\u0000&quot;</td><td>&quot;\u0000&quot;\u0000C\u0000h\u0000a\u0000n\u0000g\u0000e\u0000s\u0000 \u0000f\u0000o\u0000r\u0000 \u00002\u00000…</td></tr><tr><td>&quot;\u00001\u00000\u00004\u00009\u00006\u00008\u0000&quot;</td><td>&quot;\u0000K\u0000e\u0000v\u0000i\u0000n\u0000&quot;</td><td>&quot;\u0000B\u0000e\u0000n\u0000d\u0000e\u0000r\u0000&quot;</td><td>&quot;\u00001\u00008\u00009\u00005\u0000 \u0000P\u0000o\u0000w\u0000d\u0000e\u0000r\u0000 \u0000H\u0000o\u0000u…</td><td>&quot;\u0000J\u0000u\u0000p\u0000i\u0000t\u0000e\u0000r\u0000&quot;</td><td>&quot;\u0000F\u0000l\u0000o\u0000r\u0000i\u0000d\u0000a\u0000&quot;</td><td>&quot;\u0000F\u0000l\u0000o\u0000r\u0000i\u0000d\u0000a\u0000&quot;</td><td>&quot;\u00003\u00003\u00004\u00007\u00008\u0000&quot;</td><td>&quot;\u0000U\u0000S\u0000&quot;</td><td>&quot;\u0000U\u0000n\u0000i\u0000t\u0000e\u0000d\u0000 \u0000S\u0000t\u0000a\u0000t\u0000e\u0000s\u0000&quot;</td><td>&quot;\u00005\u00001\u0000&quot;</td><td>&quot;\u0000N\u0000Y\u0000C\u0000&quot;</td><td>&quot;\u00009\u0000/\u00006\u0000/\u00002\u00000\u00002\u00001\u0000&quot;</td><td>&quot;\u00001\u00002\u0000/\u00001\u00002\u0000/\u00002\u00009\u00009\u00009\u0000&quot;</td><td>&quot;\u0000C\u0000o\u0000r\u0000p\u0000o\u0000r\u0000a\u0000t\u0000e\u0000&quot;</td><td>&quot;\u0000C\u0000o\u0000r\u0000p\u0000o\u0000r\u0000a\u0000t\u0000e\u0000&quot;</td><td>&quot;\u0000U\u0000S\u0000D\u0000&quot;</td><td>&quot;\u00000\u0000.\u00005\u0000&quot;</td><td>&quot;\u0000C\u0000h\u0000i\u0000e\u0000f\u0000 \u0000F\u0000i\u0000n\u0000a\u0000n\u0000c\u0000i\u0000a\u0000l…</td><td>&quot;\u00002\u0000/\u00006\u0000/\u00001\u00009\u00007\u00000\u0000&quot;</td><td>&quot;\u0000C\u0000S\u0000u\u0000i\u0000t\u0000e\u0000&quot;</td><td>&quot;\u00003\u00009\u00000\u00000\u00000\u00000\u0000&quot;</td><td>&quot;\u00001\u0000&quot;</td><td>&quot;\u0000J\u0000P\u0000_\u00001\u00000\u00004\u00008\u0000&quot;</td><td>&quot;\u0000&quot;\u0000C\u0000h\u0000a\u0000n\u0000g\u0000e\u0000s\u0000 \u0000f\u0000o\u0000r\u0000 \u00002\u00000…</td></tr><tr><td>&quot;\u0000&quot;</td><td>null</td><td>null</td><td>null</td><td>null</td><td>null</td><td>null</td><td>null</td><td>null</td><td>null</td><td>null</td><td>null</td><td>null</td><td>null</td><td>null</td><td>null</td><td>null</td><td>null</td><td>null</td><td>null</td><td>null</td><td>null</td><td>null</td><td>null</td><td>null</td></tr></tbody></table></div>"
      ],
      "text/plain": [
       "shape: (4_969, 25)\n",
       "┌───────────┬───────────┬───────────┬───────────┬───┬───────────┬───────────┬───────────┬──────────┐\n",
       "│ ��E\u0000m\u0000p\u0000l ┆ \u0000F\u0000i\u0000r\u0000s\u0000 ┆ \u0000S\u0000u\u0000r\u0000n\u0000 ┆ \u0000S\u0000t\u0000r\u0000e\u0000 ┆ … ┆ \u0000S\u0000a\u0000l\u0000a\u0000 ┆ \u0000A\u0000c\u0000t\u0000i\u0000 ┆ \u0000J\u0000o\u0000b\u0000_\u0000 ┆ \u0000N\u0000o\u0000t\u0000e │\n",
       "│ \u0000o\u0000y\u0000e\u0000e\u0000 ┆ t\u0000_\u0000N\u0000a\u0000m ┆ a\u0000m\u0000e\u0000    ┆ e\u0000t\u0000A\u0000d\u0000d ┆   ┆ r\u0000y\u0000      ┆ v\u0000e\u0000 \u0000S\u0000t ┆ P\u0000r\u0000o\u0000f\u0000i ┆ \u0000s\u0000\n",
       "\u0000    │\n",
       "│ I\u0000D\u0000      ┆ \u0000e\u0000       ┆ ---       ┆ \u0000r\u0000e\u0000s\u0000s\u0000 ┆   ┆ ---       ┆ \u0000a\u0000t\u0000u\u0000s\u0000 ┆ \u0000l\u0000e\u0000     ┆ ---      │\n",
       "│ ---       ┆ ---       ┆ str       ┆ ---       ┆   ┆ str       ┆ ---       ┆ ---       ┆ str      │\n",
       "│ str       ┆ str       ┆           ┆ str       ┆   ┆           ┆ str       ┆ str       ┆          │\n",
       "╞═══════════╪═══════════╪═══════════╪═══════════╪═══╪═══════════╪═══════════╪═══════════╪══════════╡\n",
       "│ \u00001\u00000\u00000\u00000\u0000 ┆ \u0000P\u0000a\u0000t\u0000r\u0000 ┆ \u0000M\u0000o\u0000o\u0000r\u0000 ┆ \u00001\u00004\u00002\u00007\u0000 ┆ … ┆ \u00005\u00000\u00000\u00000\u0000 ┆ \u00001\u0000       ┆ \u0000J\u0000P\u0000_\u00001\u0000 ┆ \u0000C\u0000h\u0000a\u0000n │\n",
       "│ 0\u00001\u0000      ┆ i\u0000c\u0000e\u0000    ┆ e\u0000        ┆ \u0000B\u0000u\u0000c\u0000k\u0000 ┆   ┆ 0\u00000\u0000      ┆           ┆ 0\u00000\u00000\u0000    ┆ \u0000g\u0000e\u0000s\u0000  │\n",
       "│           ┆           ┆           ┆ h\u0000a\u0000n\u0000n\u0000a ┆   ┆           ┆           ┆           ┆ \u0000f\u0000o\u0000r\u0000  │\n",
       "│           ┆           ┆           ┆ \u0000n…       ┆   ┆           ┆           ┆           ┆ \u00002\u00000\u00002…  │\n",
       "│ \u00001\u00000\u00000\u00000\u0000 ┆ \u0000D\u0000a\u0000v\u0000i\u0000 ┆ \u0000R\u0000i\u0000c\u0000k\u0000 ┆ \u00004\u00002\u00006\u00005\u0000 ┆ … ┆ \u00007\u00000\u00000\u00000\u0000 ┆ \u00001\u0000       ┆ \u0000J\u0000P\u0000_\u00001\u0000 ┆ \u0000C\u0000h\u0000a\u0000n │\n",
       "│ 0\u00002\u0000      ┆ d\u0000        ┆ a\u0000r\u0000d\u0000s\u0000  ┆ \u0000G\u0000r\u0000a\u0000y\u0000 ┆   ┆ 0\u0000        ┆           ┆ 0\u00000\u00001\u0000    ┆ \u0000g\u0000e\u0000s\u0000  │\n",
       "│           ┆           ┆           ┆ s\u0000t\u0000o\u0000n\u0000e ┆   ┆           ┆           ┆           ┆ \u0000f\u0000o\u0000r\u0000  │\n",
       "│           ┆           ┆           ┆ \u0000 …       ┆   ┆           ┆           ┆           ┆ \u00002\u00000\u00002…  │\n",
       "│ \u00001\u00000\u00000\u00000\u0000 ┆ \u0000G\u0000r\u0000a\u0000c\u0000 ┆ \u0000M\u0000a\u0000l\u0000d\u0000 ┆ \u00001\u00006\u00008\u00000\u0000 ┆ … ┆ \u00007\u00007\u00000\u00000\u0000 ┆ \u00000\u0000       ┆ \u0000J\u0000P\u0000_\u00001\u0000 ┆ \u0000C\u0000h\u0000a\u0000n │\n",
       "│ 0\u00003\u0000      ┆ e\u0000        ┆ o\u0000n\u0000a\u0000d\u0000o ┆ \u0000H\u0000u\u0000d\u0000s\u0000 ┆   ┆ 0\u0000        ┆           ┆ 0\u00002\u00002\u0000    ┆ \u0000g\u0000e\u0000s\u0000  │\n",
       "│           ┆           ┆ \u0000         ┆ o\u0000n\u0000      ┆   ┆           ┆           ┆           ┆ \u0000f\u0000o\u0000r\u0000  │\n",
       "│           ┆           ┆           ┆ \u0000S\u0000t\u0000r…   ┆   ┆           ┆           ┆           ┆ \u00002\u00000\u00002…  │\n",
       "│ \u00001\u00000\u00000\u00000\u0000 ┆ \u0000J\u0000u\u0000s\u0000t\u0000 ┆ \u0000E\u0000d\u0000g\u0000i\u0000 ┆ \u00001\u00002\u00006\u00002\u0000 ┆ … ┆ \u00004\u00000\u00000\u00000\u0000 ┆ \u00000\u0000       ┆ \u0000J\u0000P\u0000_\u00001\u0000 ┆ \u0000C\u0000h\u0000a\u0000n │\n",
       "│ 0\u00004\u0000      ┆ i\u0000n\u0000      ┆ n\u0000        ┆ \u0000L\u0000i\u0000m\u0000e\u0000 ┆   ┆ 0\u00000\u0000      ┆           ┆ 0\u00003\u00006\u0000    ┆ \u0000g\u0000e\u0000s\u0000  │\n",
       "│           ┆           ┆           ┆ r\u0000        ┆   ┆           ┆           ┆           ┆ \u0000f\u0000o\u0000r\u0000  │\n",
       "│           ┆           ┆           ┆ \u0000S\u0000t\u0000r\u0000e… ┆   ┆           ┆           ┆           ┆ \u00002\u00000\u00002…  │\n",
       "│ \u00001\u00000\u00000\u00000\u0000 ┆ \u0000B\u0000e\u0000n\u0000j\u0000 ┆ \u0000V\u0000a\u0000r\u0000g\u0000 ┆ \u00002\u00004\u00003\u00001\u0000 ┆ … ┆ \u00005\u00001\u00000\u00000\u0000 ┆ \u00000\u0000       ┆ \u0000J\u0000P\u0000_\u00001\u0000 ┆ \u0000C\u0000h\u0000a\u0000n │\n",
       "│ 0\u00005\u0000      ┆ a\u0000m\u0000i\u0000n\u0000  ┆ a\u0000s\u0000      ┆ \u0000R\u0000a\u0000i\u0000n\u0000 ┆   ┆ 0\u0000        ┆           ┆ 0\u00001\u00005\u0000    ┆ \u0000g\u0000e\u0000s\u0000  │\n",
       "│           ┆           ┆           ┆ b\u0000o\u0000w\u0000    ┆   ┆           ┆           ┆           ┆ \u0000f\u0000o\u0000r\u0000  │\n",
       "│           ┆           ┆           ┆ \u0000R\u0000o…     ┆   ┆           ┆           ┆           ┆ \u00002\u00000\u00002…  │\n",
       "│ …         ┆ …         ┆ …         ┆ …         ┆ … ┆ …         ┆ …         ┆ …         ┆ …        │\n",
       "│ \u00001\u00000\u00004\u00009\u0000 ┆ \u0000T\u0000e\u0000r\u0000e\u0000 ┆ \u0000N\u0000a\u0000t\u0000i\u0000 ┆ \u00003\u00003\u00003\u00006\u0000 ┆ … ┆ \u00007\u00007\u00000\u00000\u0000 ┆ \u00001\u0000       ┆ \u0000J\u0000P\u0000_\u00001\u0000 ┆ \u0000\"\u0000C\u0000h\u0000a │\n",
       "│ 6\u00005\u0000      ┆ s\u0000a\u0000      ┆ o\u0000n\u0000      ┆ \u0000F\u0000l\u0000e\u0000m\u0000 ┆   ┆ 0\u0000        ┆           ┆ 0\u00003\u00008\u0000    ┆ \u0000n\u0000g\u0000e\u0000s │\n",
       "│           ┆           ┆           ┆ i\u0000n\u0000g\u0000    ┆   ┆           ┆           ┆           ┆ \u0000        │\n",
       "│           ┆           ┆           ┆ \u0000W\u0000a…     ┆   ┆           ┆           ┆           ┆ \u0000f\u0000o\u0000r\u0000  │\n",
       "│           ┆           ┆           ┆           ┆   ┆           ┆           ┆           ┆ \u00002\u00000…    │\n",
       "│ \u00001\u00000\u00004\u00009\u0000 ┆ \u0000L\u0000a\u0000s\u0000h\u0000 ┆ \u0000H\u0000a\u0000l\u0000l\u0000 ┆ \u00002\u00002\u00006\u0000   ┆ … ┆ \u00008\u00005\u00005\u00000\u0000 ┆ \u00001\u0000       ┆ \u0000J\u0000P\u0000_\u00001\u0000 ┆ \u0000\"\u0000C\u0000h\u0000a │\n",
       "│ 6\u00006\u0000      ┆ a\u0000n\u0000d\u0000r\u0000a ┆           ┆ \u0000W\u0000h\u0000i\u0000t\u0000 ┆   ┆ 0\u0000        ┆           ┆ 0\u00003\u00004\u0000    ┆ \u0000n\u0000g\u0000e\u0000s │\n",
       "│           ┆ \u0000         ┆           ┆ e\u0000 \u0000R\u0000i\u0000v ┆   ┆           ┆           ┆           ┆ \u0000        │\n",
       "│           ┆           ┆           ┆ \u0000e\u0000r…     ┆   ┆           ┆           ┆           ┆ \u0000f\u0000o\u0000r\u0000  │\n",
       "│           ┆           ┆           ┆           ┆   ┆           ┆           ┆           ┆ \u00002\u00000…    │\n",
       "│ \u00001\u00000\u00004\u00009\u0000 ┆ \u0000C\u0000l\u0000a\u0000r\u0000 ┆ \u0000W\u0000e\u0000i\u0000s\u0000 ┆ \u00003\u00003\u00001\u00008\u0000 ┆ … ┆ \u00009\u00008\u00000\u00000\u0000 ┆ \u00001\u0000       ┆ \u0000J\u0000P\u0000_\u00001\u0000 ┆ \u0000\"\u0000C\u0000h\u0000a │\n",
       "│ 6\u00007\u0000      ┆ a\u0000        ┆ b\u0000e\u0000r\u0000g\u0000  ┆ \u0000M\u0000a\u0000x\u0000w\u0000 ┆   ┆ 0\u0000        ┆           ┆ 0\u00004\u00000\u0000    ┆ \u0000n\u0000g\u0000e\u0000s │\n",
       "│           ┆           ┆           ┆ e\u0000l\u0000l\u0000    ┆   ┆           ┆           ┆           ┆ \u0000        │\n",
       "│           ┆           ┆           ┆ \u0000F\u0000a…     ┆   ┆           ┆           ┆           ┆ \u0000f\u0000o\u0000r\u0000  │\n",
       "│           ┆           ┆           ┆           ┆   ┆           ┆           ┆           ┆ \u00002\u00000…    │\n",
       "│ \u00001\u00000\u00004\u00009\u0000 ┆ \u0000K\u0000e\u0000v\u0000i\u0000 ┆ \u0000B\u0000e\u0000n\u0000d\u0000 ┆ \u00001\u00008\u00009\u00005\u0000 ┆ … ┆ \u00003\u00009\u00000\u00000\u0000 ┆ \u00001\u0000       ┆ \u0000J\u0000P\u0000_\u00001\u0000 ┆ \u0000\"\u0000C\u0000h\u0000a │\n",
       "│ 6\u00008\u0000      ┆ n\u0000        ┆ e\u0000r\u0000      ┆ \u0000P\u0000o\u0000w\u0000d\u0000 ┆   ┆ 0\u00000\u0000      ┆           ┆ 0\u00004\u00008\u0000    ┆ \u0000n\u0000g\u0000e\u0000s │\n",
       "│           ┆           ┆           ┆ e\u0000r\u0000      ┆   ┆           ┆           ┆           ┆ \u0000        │\n",
       "│           ┆           ┆           ┆ \u0000H\u0000o\u0000u…   ┆   ┆           ┆           ┆           ┆ \u0000f\u0000o\u0000r\u0000  │\n",
       "│           ┆           ┆           ┆           ┆   ┆           ┆           ┆           ┆ \u00002\u00000…    │\n",
       "│ \u0000         ┆ null      ┆ null      ┆ null      ┆ … ┆ null      ┆ null      ┆ null      ┆ null     │\n",
       "└───────────┴───────────┴───────────┴───────────┴───┴───────────┴───────────┴───────────┴──────────┘"
      ]
     },
     "metadata": {},
     "output_type": "display_data"
    }
   ],
   "source": [
    "dir = 'human-resource-data-set-the-company/'\n",
    "COL = pl.read_csv(dir + '2021.06_COL_2021.txt',separator=\"\\t\")\n",
    "Diversity = pl.read_csv(dir + 'Diversity.txt',separator=\"\\t\")\n",
    "Engagement = pl.read_csv(dir + 'EngagementSurvey.txt',separator=\"\\t\")\n",
    "Profile = pl.read_csv(dir + '2021.06_job_profile_mapping.txt',separator=\"\\t\")\n",
    "Company = pl.read_csv(dir + 'CompanyData.txt', separator=\"\\t\")\n",
    "\n",
    "print('dir: \\n')\n",
    "display(dir)\n",
    "\n",
    "print('COL: \\n')\n",
    "display(COL)\n",
    "\n",
    "print('Diversity: \\n')\n",
    "display(Diversity)\n",
    "\n",
    "print('Engagement: \\n')\n",
    "display(Engagement)\n",
    "\n",
    "print('Profile: \\n')\n",
    "display(Profile)\n",
    "\n",
    "print('Company: \\n')\n",
    "display(Company)"
   ]
  }
 ],
 "metadata": {
  "kernelspec": {
   "display_name": "Macenv",
   "language": "python",
   "name": "python3"
  },
  "language_info": {
   "codemirror_mode": {
    "name": "ipython",
    "version": 3
   },
   "file_extension": ".py",
   "mimetype": "text/x-python",
   "name": "python",
   "nbconvert_exporter": "python",
   "pygments_lexer": "ipython3",
   "version": "3.13.0"
  }
 },
 "nbformat": 4,
 "nbformat_minor": 5
}
