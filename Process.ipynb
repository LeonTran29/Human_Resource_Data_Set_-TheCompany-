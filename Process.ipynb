{
 "cells": [
  {
   "cell_type": "markdown",
   "id": "36a39d32",
   "metadata": {
    "_cell_guid": "9c28f296-a74c-4f95-a280-d8f0103f3d28",
    "_uuid": "1f7c9a8e-e61e-4edd-9e32-145cfb4eb9dc",
    "collapsed": false,
    "jupyter": {
     "outputs_hidden": false
    },
    "papermill": {
     "duration": 0.004025,
     "end_time": "2025-09-03T16:38:03.541622",
     "exception": false,
     "start_time": "2025-09-03T16:38:03.537597",
     "status": "completed"
    },
    "tags": []
   },
   "source": [
    "1. Introduction"
   ]
  },
  {
   "cell_type": "markdown",
   "id": "90028a53",
   "metadata": {
    "_cell_guid": "d5494c38-1af8-4216-b3ab-3b2e1de3b6bf",
    "_uuid": "554da5c6-08fb-4108-bbb5-fc1ed80debed",
    "collapsed": false,
    "jupyter": {
     "outputs_hidden": false
    },
    "papermill": {
     "duration": 0.002578,
     "end_time": "2025-09-03T16:38:03.547689",
     "exception": false,
     "start_time": "2025-09-03T16:38:03.545111",
     "status": "completed"
    },
    "tags": []
   },
   "source": [
    "2. ASK"
   ]
  },
  {
   "cell_type": "markdown",
   "id": "03bcc255",
   "metadata": {
    "_cell_guid": "8617bac5-797a-469b-9aab-cab70e3739d3",
    "_uuid": "e23d9793-84eb-424b-a481-62381f902b4a",
    "collapsed": false,
    "jupyter": {
     "outputs_hidden": false
    },
    "papermill": {
     "duration": 0.002508,
     "end_time": "2025-09-03T16:38:03.553042",
     "exception": false,
     "start_time": "2025-09-03T16:38:03.550534",
     "status": "completed"
    },
    "tags": []
   },
   "source": [
    "3. Process"
   ]
  },
  {
   "cell_type": "code",
   "execution_count": 1,
   "id": "62f6f8a6",
   "metadata": {
    "_cell_guid": "c6fc575c-e3e1-4c27-aba6-049b7d7f461a",
    "_uuid": "25ef20d4-4766-4a03-929a-3cb7a5a423d3",
    "collapsed": false,
    "execution": {
     "iopub.execute_input": "2025-09-03T16:38:03.560016Z",
     "iopub.status.busy": "2025-09-03T16:38:03.559626Z",
     "iopub.status.idle": "2025-09-03T16:38:07.769184Z",
     "shell.execute_reply": "2025-09-03T16:38:07.768203Z"
    },
    "jupyter": {
     "outputs_hidden": false
    },
    "papermill": {
     "duration": 4.214978,
     "end_time": "2025-09-03T16:38:07.770770",
     "exception": false,
     "start_time": "2025-09-03T16:38:03.555792",
     "status": "completed"
    },
    "tags": []
   },
   "outputs": [
    {
     "name": "stdout",
     "output_type": "stream",
     "text": [
      "Found text file: /kaggle/input/human-resource-data-set-the-company/2021.06_job_profile_mapping.txt\n",
      "Found text file: /kaggle/input/human-resource-data-set-the-company/EngagementSurvey.txt\n",
      "Found text file: /kaggle/input/human-resource-data-set-the-company/2021.06_COL_2021.txt\n",
      "Found text file: /kaggle/input/human-resource-data-set-the-company/CompanyData.txt\n",
      "Found text file: /kaggle/input/human-resource-data-set-the-company/Diversity.txt\n"
     ]
    }
   ],
   "source": [
    "# Import libraries\n",
    "import polars as pl\n",
    "import numpy as np\n",
    "import seaborn as sns\n",
    "import matplotlib.pyplot as plt\n",
    "import os\n",
    "\n",
    "# Import utils\n",
    "\n",
    "\n",
    "# Checking dataset\n",
    "for pathname, dirnames, filenames in os.walk('/kaggle/input/human-resource-data-set-the-company'):\n",
    "    for filename in filenames:\n",
    "        if filename.endswith('.txt'):\n",
    "            print(\"Found text file:\", os.path.join(pathname, filename)  )"
   ]
  },
  {
   "cell_type": "code",
   "execution_count": 2,
   "id": "c95281e0",
   "metadata": {
    "_cell_guid": "18f5776e-fbfa-43c9-a26a-33df0a7117e2",
    "_uuid": "529b575b-6c83-4740-9cfc-df2d71af4cac",
    "collapsed": false,
    "execution": {
     "iopub.execute_input": "2025-09-03T16:38:07.778171Z",
     "iopub.status.busy": "2025-09-03T16:38:07.777272Z",
     "iopub.status.idle": "2025-09-03T16:38:08.160507Z",
     "shell.execute_reply": "2025-09-03T16:38:08.159709Z"
    },
    "jupyter": {
     "outputs_hidden": false
    },
    "papermill": {
     "duration": 0.388091,
     "end_time": "2025-09-03T16:38:08.161820",
     "exception": false,
     "start_time": "2025-09-03T16:38:07.773729",
     "status": "completed"
    },
    "tags": []
   },
   "outputs": [
    {
     "name": "stdout",
     "output_type": "stream",
     "text": [
      "dir: \n",
      "\n"
     ]
    },
    {
     "data": {
      "text/plain": [
       "'/kaggle/input/human-resource-data-set-the-company/'"
      ]
     },
     "metadata": {},
     "output_type": "display_data"
    },
    {
     "name": "stdout",
     "output_type": "stream",
     "text": [
      "COL (Cost of Living Table): \n",
      "\n"
     ]
    },
    {
     "data": {
      "text/html": [
       "<div><style>\n",
       ".dataframe > thead > tr,\n",
       ".dataframe > tbody > tr {\n",
       "  text-align: right;\n",
       "  white-space: pre-wrap;\n",
       "}\n",
       "</style>\n",
       "<small>shape: (9, 3)</small><table border=\"1\" class=\"dataframe\"><thead><tr><th>Office</th><th>COL Amount</th><th>Currency</th></tr><tr><td>str</td><td>i64</td><td>str</td></tr></thead><tbody><tr><td>&quot;NYC&quot;</td><td>100</td><td>&quot;USD&quot;</td></tr><tr><td>&quot;Boulder&quot;</td><td>70</td><td>&quot;USD&quot;</td></tr><tr><td>&quot;Oslo&quot;</td><td>70</td><td>&quot;NOK&quot;</td></tr><tr><td>&quot;SanJose&quot;</td><td>90</td><td>&quot;USD&quot;</td></tr><tr><td>&quot;London&quot;</td><td>90</td><td>&quot;GBP&quot;</td></tr><tr><td>&quot;Tokyo&quot;</td><td>85</td><td>&quot;JPY&quot;</td></tr><tr><td>&quot;HongKong&quot;</td><td>85</td><td>&quot;HKD&quot;</td></tr><tr><td>&quot;SanFran&quot;</td><td>100</td><td>&quot;USD&quot;</td></tr><tr><td>&quot;Austin&quot;</td><td>70</td><td>&quot;USD&quot;</td></tr></tbody></table></div>"
      ],
      "text/plain": [
       "shape: (9, 3)\n",
       "┌──────────┬────────────┬──────────┐\n",
       "│ Office   ┆ COL Amount ┆ Currency │\n",
       "│ ---      ┆ ---        ┆ ---      │\n",
       "│ str      ┆ i64        ┆ str      │\n",
       "╞══════════╪════════════╪══════════╡\n",
       "│ NYC      ┆ 100        ┆ USD      │\n",
       "│ Boulder  ┆ 70         ┆ USD      │\n",
       "│ Oslo     ┆ 70         ┆ NOK      │\n",
       "│ SanJose  ┆ 90         ┆ USD      │\n",
       "│ London   ┆ 90         ┆ GBP      │\n",
       "│ Tokyo    ┆ 85         ┆ JPY      │\n",
       "│ HongKong ┆ 85         ┆ HKD      │\n",
       "│ SanFran  ┆ 100        ┆ USD      │\n",
       "│ Austin   ┆ 70         ┆ USD      │\n",
       "└──────────┴────────────┴──────────┘"
      ]
     },
     "metadata": {},
     "output_type": "display_data"
    },
    {
     "name": "stdout",
     "output_type": "stream",
     "text": [
      "Diversity: \n",
      "\n"
     ]
    },
    {
     "data": {
      "text/html": [
       "<div><style>\n",
       ".dataframe > thead > tr,\n",
       ".dataframe > tbody > tr {\n",
       "  text-align: right;\n",
       "  white-space: pre-wrap;\n",
       "}\n",
       "</style>\n",
       "<small>shape: (4_968, 8)</small><table border=\"1\" class=\"dataframe\"><thead><tr><th>EmployeeID</th><th>Gender</th><th>Gender Identity</th><th>Race/Ethnicity</th><th>Veteran</th><th>Disability</th><th>Education</th><th>Sexual Orientation</th></tr><tr><td>i64</td><td>str</td><td>str</td><td>str</td><td>i64</td><td>i64</td><td>str</td><td>str</td></tr></thead><tbody><tr><td>100001</td><td>&quot;female&quot;</td><td>&quot;female&quot;</td><td>&quot;White&quot;</td><td>0</td><td>0</td><td>&quot;Undergraduate&quot;</td><td>&quot;Heterosexual&quot;</td></tr><tr><td>100002</td><td>&quot;male&quot;</td><td>&quot;male&quot;</td><td>&quot;White&quot;</td><td>0</td><td>1</td><td>&quot;Undergraduate&quot;</td><td>&quot;Heterosexual&quot;</td></tr><tr><td>100003</td><td>&quot;female&quot;</td><td>&quot;female&quot;</td><td>&quot;Asian&quot;</td><td>0</td><td>0</td><td>&quot;Undergraduate&quot;</td><td>&quot;Heterosexual&quot;</td></tr><tr><td>100004</td><td>&quot;male&quot;</td><td>&quot;male&quot;</td><td>&quot;White&quot;</td><td>0</td><td>0</td><td>&quot;Undergraduate&quot;</td><td>&quot;Heterosexual&quot;</td></tr><tr><td>100005</td><td>&quot;male&quot;</td><td>&quot;male&quot;</td><td>&quot;Hispanic or Latino&quot;</td><td>0</td><td>0</td><td>&quot;Undergraduate&quot;</td><td>&quot;Missing&quot;</td></tr><tr><td>&hellip;</td><td>&hellip;</td><td>&hellip;</td><td>&hellip;</td><td>&hellip;</td><td>&hellip;</td><td>&hellip;</td><td>&hellip;</td></tr><tr><td>104964</td><td>&quot;male&quot;</td><td>&quot;male&quot;</td><td>&quot;Asian&quot;</td><td>0</td><td>0</td><td>&quot;Undergraduate&quot;</td><td>&quot;Heterosexual&quot;</td></tr><tr><td>104965</td><td>&quot;female&quot;</td><td>&quot;female&quot;</td><td>&quot;Hispanic or Latino&quot;</td><td>0</td><td>0</td><td>&quot;Undergraduate&quot;</td><td>&quot;Heterosexual&quot;</td></tr><tr><td>104966</td><td>&quot;male&quot;</td><td>&quot;male&quot;</td><td>&quot;White&quot;</td><td>0</td><td>0</td><td>&quot;Undergraduate&quot;</td><td>&quot;Missing&quot;</td></tr><tr><td>104967</td><td>&quot;male&quot;</td><td>&quot;Prefer not to say&quot;</td><td>&quot;White&quot;</td><td>0</td><td>0</td><td>&quot;Undergraduate&quot;</td><td>&quot;Gay&quot;</td></tr><tr><td>104968</td><td>&quot;female&quot;</td><td>&quot;female&quot;</td><td>&quot;White&quot;</td><td>0</td><td>0</td><td>&quot;Some College&quot;</td><td>&quot;Heterosexual&quot;</td></tr></tbody></table></div>"
      ],
      "text/plain": [
       "shape: (4_968, 8)\n",
       "┌────────────┬────────┬─────────────┬─────────────┬─────────┬────────────┬────────────┬────────────┐\n",
       "│ EmployeeID ┆ Gender ┆ Gender      ┆ Race/Ethnic ┆ Veteran ┆ Disability ┆ Education  ┆ Sexual Ori │\n",
       "│ ---        ┆ ---    ┆ Identity    ┆ ity         ┆ ---     ┆ ---        ┆ ---        ┆ entation   │\n",
       "│ i64        ┆ str    ┆ ---         ┆ ---         ┆ i64     ┆ i64        ┆ str        ┆ ---        │\n",
       "│            ┆        ┆ str         ┆ str         ┆         ┆            ┆            ┆ str        │\n",
       "╞════════════╪════════╪═════════════╪═════════════╪═════════╪════════════╪════════════╪════════════╡\n",
       "│ 100001     ┆ female ┆ female      ┆ White       ┆ 0       ┆ 0          ┆ Undergradu ┆ Heterosexu │\n",
       "│            ┆        ┆             ┆             ┆         ┆            ┆ ate        ┆ al         │\n",
       "│ 100002     ┆ male   ┆ male        ┆ White       ┆ 0       ┆ 1          ┆ Undergradu ┆ Heterosexu │\n",
       "│            ┆        ┆             ┆             ┆         ┆            ┆ ate        ┆ al         │\n",
       "│ 100003     ┆ female ┆ female      ┆ Asian       ┆ 0       ┆ 0          ┆ Undergradu ┆ Heterosexu │\n",
       "│            ┆        ┆             ┆             ┆         ┆            ┆ ate        ┆ al         │\n",
       "│ 100004     ┆ male   ┆ male        ┆ White       ┆ 0       ┆ 0          ┆ Undergradu ┆ Heterosexu │\n",
       "│            ┆        ┆             ┆             ┆         ┆            ┆ ate        ┆ al         │\n",
       "│ 100005     ┆ male   ┆ male        ┆ Hispanic or ┆ 0       ┆ 0          ┆ Undergradu ┆ Missing    │\n",
       "│            ┆        ┆             ┆ Latino      ┆         ┆            ┆ ate        ┆            │\n",
       "│ …          ┆ …      ┆ …           ┆ …           ┆ …       ┆ …          ┆ …          ┆ …          │\n",
       "│ 104964     ┆ male   ┆ male        ┆ Asian       ┆ 0       ┆ 0          ┆ Undergradu ┆ Heterosexu │\n",
       "│            ┆        ┆             ┆             ┆         ┆            ┆ ate        ┆ al         │\n",
       "│ 104965     ┆ female ┆ female      ┆ Hispanic or ┆ 0       ┆ 0          ┆ Undergradu ┆ Heterosexu │\n",
       "│            ┆        ┆             ┆ Latino      ┆         ┆            ┆ ate        ┆ al         │\n",
       "│ 104966     ┆ male   ┆ male        ┆ White       ┆ 0       ┆ 0          ┆ Undergradu ┆ Missing    │\n",
       "│            ┆        ┆             ┆             ┆         ┆            ┆ ate        ┆            │\n",
       "│ 104967     ┆ male   ┆ Prefer not  ┆ White       ┆ 0       ┆ 0          ┆ Undergradu ┆ Gay        │\n",
       "│            ┆        ┆ to say      ┆             ┆         ┆            ┆ ate        ┆            │\n",
       "│ 104968     ┆ female ┆ female      ┆ White       ┆ 0       ┆ 0          ┆ Some       ┆ Heterosexu │\n",
       "│            ┆        ┆             ┆             ┆         ┆            ┆ College    ┆ al         │\n",
       "└────────────┴────────┴─────────────┴─────────────┴─────────┴────────────┴────────────┴────────────┘"
      ]
     },
     "metadata": {},
     "output_type": "display_data"
    },
    {
     "name": "stdout",
     "output_type": "stream",
     "text": [
      "Engagement: \n",
      "\n"
     ]
    },
    {
     "data": {
      "text/html": [
       "<div><style>\n",
       ".dataframe > thead > tr,\n",
       ".dataframe > tbody > tr {\n",
       "  text-align: right;\n",
       "  white-space: pre-wrap;\n",
       "}\n",
       "</style>\n",
       "<small>shape: (2_827, 23)</small><table border=\"1\" class=\"dataframe\"><thead><tr><th>EmployeeID</th><th>Survey</th><th>I would recommend my friends or Family to work at TheCompany</th><th>I feel engaged in my work.</th><th>I believe Leadership cares about the employees at TheCompany</th><th>My manager supports me in my role at TheCompany</th><th>TheCompany cares about Diversity, Equity and Inclusion.</th><th>I believe there is room for me to grow at TheCompany</th><th>I work on interesting projects.</th><th>My manager motivates me to work hard.</th><th>I am motivated to work hard at TheCompany.</th><th>I believe I am recognized for the work I do.</th><th>I believe there are good career opportunities for me at TheCompany.</th><th>I believe TheCompany is in a great position in the market for the next few years to be succesful.</th><th>I plan on staying with TheCompany for at least 2 more years.</th><th>I believe I am fairly compensated for my work.</th><th>I believe there is little to not politics at TheCompany</th><th>I feel comfortable going to someone in leadership if there is an issue.</th><th>My values align with the culture at TheCompany</th><th>I know what TheCompany values are at TheCompany</th><th>I feel like I can take off my accrued Paid Time Off (PTO)/Vacation without feeling guilty</th><th>What does TheCompany do well?</th><th>What can TheCompany improve?</th></tr><tr><td>i64</td><td>str</td><td>i64</td><td>i64</td><td>i64</td><td>i64</td><td>i64</td><td>i64</td><td>i64</td><td>i64</td><td>i64</td><td>i64</td><td>i64</td><td>i64</td><td>i64</td><td>i64</td><td>i64</td><td>i64</td><td>i64</td><td>i64</td><td>i64</td><td>str</td><td>str</td></tr></thead><tbody><tr><td>100001</td><td>&quot;2023Q2&quot;</td><td>3</td><td>3</td><td>2</td><td>1</td><td>1</td><td>3</td><td>2</td><td>4</td><td>4</td><td>2</td><td>2</td><td>3</td><td>4</td><td>2</td><td>2</td><td>4</td><td>4</td><td>3</td><td>3</td><td>null</td><td>null</td></tr><tr><td>100002</td><td>&quot;2023Q2&quot;</td><td>3</td><td>4</td><td>2</td><td>4</td><td>2</td><td>4</td><td>4</td><td>2</td><td>2</td><td>4</td><td>4</td><td>3</td><td>1</td><td>5</td><td>1</td><td>2</td><td>4</td><td>3</td><td>1</td><td>null</td><td>null</td></tr><tr><td>100009</td><td>&quot;2023Q2&quot;</td><td>3</td><td>4</td><td>2</td><td>3</td><td>4</td><td>3</td><td>2</td><td>2</td><td>3</td><td>4</td><td>2</td><td>1</td><td>1</td><td>3</td><td>2</td><td>2</td><td>3</td><td>2</td><td>4</td><td>null</td><td>null</td></tr><tr><td>100014</td><td>&quot;2023Q2&quot;</td><td>4</td><td>1</td><td>5</td><td>2</td><td>5</td><td>3</td><td>4</td><td>4</td><td>2</td><td>3</td><td>3</td><td>3</td><td>4</td><td>2</td><td>2</td><td>4</td><td>3</td><td>3</td><td>2</td><td>null</td><td>null</td></tr><tr><td>100018</td><td>&quot;2023Q2&quot;</td><td>4</td><td>1</td><td>1</td><td>1</td><td>2</td><td>3</td><td>1</td><td>3</td><td>2</td><td>3</td><td>4</td><td>4</td><td>3</td><td>2</td><td>4</td><td>3</td><td>2</td><td>2</td><td>3</td><td>null</td><td>null</td></tr><tr><td>&hellip;</td><td>&hellip;</td><td>&hellip;</td><td>&hellip;</td><td>&hellip;</td><td>&hellip;</td><td>&hellip;</td><td>&hellip;</td><td>&hellip;</td><td>&hellip;</td><td>&hellip;</td><td>&hellip;</td><td>&hellip;</td><td>&hellip;</td><td>&hellip;</td><td>&hellip;</td><td>&hellip;</td><td>&hellip;</td><td>&hellip;</td><td>&hellip;</td><td>&hellip;</td><td>&hellip;</td><td>&hellip;</td></tr><tr><td>104964</td><td>&quot;2023Q2&quot;</td><td>3</td><td>3</td><td>3</td><td>4</td><td>2</td><td>1</td><td>4</td><td>4</td><td>2</td><td>1</td><td>2</td><td>4</td><td>4</td><td>1</td><td>4</td><td>2</td><td>3</td><td>2</td><td>3</td><td>null</td><td>null</td></tr><tr><td>104965</td><td>&quot;2023Q2&quot;</td><td>4</td><td>4</td><td>4</td><td>2</td><td>4</td><td>3</td><td>3</td><td>3</td><td>4</td><td>1</td><td>4</td><td>1</td><td>1</td><td>4</td><td>2</td><td>1</td><td>1</td><td>4</td><td>4</td><td>null</td><td>null</td></tr><tr><td>104966</td><td>&quot;2023Q2&quot;</td><td>3</td><td>3</td><td>3</td><td>3</td><td>2</td><td>2</td><td>3</td><td>2</td><td>3</td><td>4</td><td>3</td><td>3</td><td>3</td><td>3</td><td>4</td><td>4</td><td>4</td><td>3</td><td>3</td><td>null</td><td>null</td></tr><tr><td>104967</td><td>&quot;2023Q2&quot;</td><td>3</td><td>1</td><td>4</td><td>4</td><td>4</td><td>3</td><td>3</td><td>4</td><td>5</td><td>3</td><td>4</td><td>4</td><td>2</td><td>3</td><td>2</td><td>4</td><td>3</td><td>4</td><td>3</td><td>null</td><td>null</td></tr><tr><td>104968</td><td>&quot;2023Q2&quot;</td><td>4</td><td>2</td><td>4</td><td>2</td><td>4</td><td>4</td><td>4</td><td>2</td><td>4</td><td>4</td><td>1</td><td>3</td><td>3</td><td>1</td><td>1</td><td>3</td><td>2</td><td>4</td><td>5</td><td>null</td><td>null</td></tr></tbody></table></div>"
      ],
      "text/plain": [
       "shape: (2_827, 23)\n",
       "┌────────────┬────────┬────────────┬───────────┬───┬───────────┬───────────┬───────────┬───────────┐\n",
       "│ EmployeeID ┆ Survey ┆ I would    ┆ I feel    ┆ … ┆ I know    ┆ I feel    ┆ What does ┆ What can  │\n",
       "│ ---        ┆ ---    ┆ recommend  ┆ engaged   ┆   ┆ what TheC ┆ like I    ┆ TheCompan ┆ TheCompan │\n",
       "│ i64        ┆ str    ┆ my friends ┆ in my     ┆   ┆ ompany    ┆ can take  ┆ y do      ┆ y         │\n",
       "│            ┆        ┆ o…         ┆ work.     ┆   ┆ values …  ┆ off my …  ┆ well?     ┆ improve?  │\n",
       "│            ┆        ┆ ---        ┆ ---       ┆   ┆ ---       ┆ ---       ┆ ---       ┆ ---       │\n",
       "│            ┆        ┆ i64        ┆ i64       ┆   ┆ i64       ┆ i64       ┆ str       ┆ str       │\n",
       "╞════════════╪════════╪════════════╪═══════════╪═══╪═══════════╪═══════════╪═══════════╪═══════════╡\n",
       "│ 100001     ┆ 2023Q2 ┆ 3          ┆ 3         ┆ … ┆ 3         ┆ 3         ┆ null      ┆ null      │\n",
       "│ 100002     ┆ 2023Q2 ┆ 3          ┆ 4         ┆ … ┆ 3         ┆ 1         ┆ null      ┆ null      │\n",
       "│ 100009     ┆ 2023Q2 ┆ 3          ┆ 4         ┆ … ┆ 2         ┆ 4         ┆ null      ┆ null      │\n",
       "│ 100014     ┆ 2023Q2 ┆ 4          ┆ 1         ┆ … ┆ 3         ┆ 2         ┆ null      ┆ null      │\n",
       "│ 100018     ┆ 2023Q2 ┆ 4          ┆ 1         ┆ … ┆ 2         ┆ 3         ┆ null      ┆ null      │\n",
       "│ …          ┆ …      ┆ …          ┆ …         ┆ … ┆ …         ┆ …         ┆ …         ┆ …         │\n",
       "│ 104964     ┆ 2023Q2 ┆ 3          ┆ 3         ┆ … ┆ 2         ┆ 3         ┆ null      ┆ null      │\n",
       "│ 104965     ┆ 2023Q2 ┆ 4          ┆ 4         ┆ … ┆ 4         ┆ 4         ┆ null      ┆ null      │\n",
       "│ 104966     ┆ 2023Q2 ┆ 3          ┆ 3         ┆ … ┆ 3         ┆ 3         ┆ null      ┆ null      │\n",
       "│ 104967     ┆ 2023Q2 ┆ 3          ┆ 1         ┆ … ┆ 4         ┆ 3         ┆ null      ┆ null      │\n",
       "│ 104968     ┆ 2023Q2 ┆ 4          ┆ 2         ┆ … ┆ 4         ┆ 5         ┆ null      ┆ null      │\n",
       "└────────────┴────────┴────────────┴───────────┴───┴───────────┴───────────┴───────────┴───────────┘"
      ]
     },
     "metadata": {},
     "output_type": "display_data"
    },
    {
     "data": {
      "text/plain": [
       "Schema([('EmployeeID', Int64),\n",
       "        ('Survey', String),\n",
       "        ('I would recommend my friends or Family to work at TheCompany',\n",
       "         Int64),\n",
       "        ('I feel engaged in my work.', Int64),\n",
       "        ('I believe Leadership cares about the employees at TheCompany',\n",
       "         Int64),\n",
       "        ('My manager supports me in my role at TheCompany', Int64),\n",
       "        ('TheCompany cares about Diversity, Equity and Inclusion.', Int64),\n",
       "        ('I believe there is room for me to grow at TheCompany', Int64),\n",
       "        ('I work on interesting projects.', Int64),\n",
       "        ('My manager motivates me to work hard.', Int64),\n",
       "        ('I am motivated to work hard at TheCompany.', Int64),\n",
       "        ('I believe I am recognized for the work I do.', Int64),\n",
       "        ('I believe there are good career opportunities for me at TheCompany.',\n",
       "         Int64),\n",
       "        ('I believe TheCompany is in a great position in the market for the next few years to be succesful.',\n",
       "         Int64),\n",
       "        ('I plan on staying with TheCompany for at least 2 more years.',\n",
       "         Int64),\n",
       "        ('I believe I am fairly compensated for my work.', Int64),\n",
       "        ('I believe there is little to not politics at TheCompany', Int64),\n",
       "        ('I feel comfortable going to someone in leadership if there is an issue.',\n",
       "         Int64),\n",
       "        ('My values align with the culture at TheCompany', Int64),\n",
       "        ('I know what TheCompany values are at TheCompany', Int64),\n",
       "        ('I feel like I can take off my accrued Paid Time Off (PTO)/Vacation without feeling guilty',\n",
       "         Int64),\n",
       "        ('What does TheCompany do well?', String),\n",
       "        ('What can TheCompany improve?', String)])"
      ]
     },
     "metadata": {},
     "output_type": "display_data"
    },
    {
     "name": "stdout",
     "output_type": "stream",
     "text": [
      "Profile: \n",
      "\n"
     ]
    },
    {
     "data": {
      "text/html": [
       "<div><style>\n",
       ".dataframe > thead > tr,\n",
       ".dataframe > tbody > tr {\n",
       "  text-align: right;\n",
       "  white-space: pre-wrap;\n",
       "}\n",
       "</style>\n",
       "<small>shape: (54, 6)</small><table border=\"1\" class=\"dataframe\"><thead><tr><th>Department</th><th>Job_title</th><th>Job_Profile</th><th>Compensation</th><th>Level</th><th>Bonus %</th></tr><tr><td>str</td><td>str</td><td>str</td><td>str</td><td>str</td><td>f64</td></tr></thead><tbody><tr><td>&quot;Corporate&quot;</td><td>&quot;CEO&quot;</td><td>&quot;JP_1000&quot;</td><td>&quot; 500,000.00 &quot;</td><td>&quot;CSuite&quot;</td><td>1.0</td></tr><tr><td>&quot;Corporate&quot;</td><td>&quot;HR Manager&quot;</td><td>&quot;JP_1001&quot;</td><td>&quot; 100,000.00 &quot;</td><td>&quot;Manager&quot;</td><td>0.2</td></tr><tr><td>&quot;Corporate&quot;</td><td>&quot;AR Specialist&quot;</td><td>&quot;JP_1002&quot;</td><td>&quot; 65,000.00 &quot;</td><td>&quot;Individual Contributor&quot;</td><td>0.15</td></tr><tr><td>&quot;Corporate&quot;</td><td>&quot;AP Specialist&quot;</td><td>&quot;JP_1003&quot;</td><td>&quot; 65,000.00 &quot;</td><td>&quot;Individual Contributor&quot;</td><td>0.15</td></tr><tr><td>&quot;Corporate&quot;</td><td>&quot;FP&amp;A Analyst&quot;</td><td>&quot;JP_1004&quot;</td><td>&quot; 70,000.00 &quot;</td><td>&quot;Individual Contributor&quot;</td><td>0.15</td></tr><tr><td>&hellip;</td><td>&hellip;</td><td>&hellip;</td><td>&hellip;</td><td>&hellip;</td><td>&hellip;</td></tr><tr><td>&quot;Corporate&quot;</td><td>&quot;Chief Human Resources Officer&quot;</td><td>&quot;JP_1049&quot;</td><td>&quot; 380,000.00 &quot;</td><td>&quot;CSuite&quot;</td><td>0.5</td></tr><tr><td>&quot;Corporate&quot;</td><td>&quot;Senior, Finance&quot;</td><td>&quot;JP_1050&quot;</td><td>&quot; 110,000.00 &quot;</td><td>&quot;Senior&quot;</td><td>0.15</td></tr><tr><td>&quot;Corporate&quot;</td><td>&quot;Director, HR&quot;</td><td>&quot;JP_1051&quot;</td><td>&quot; 180,000.00 &quot;</td><td>&quot;Director&quot;</td><td>0.2</td></tr><tr><td>&quot;Corporate&quot;</td><td>&quot;Director, Finance&quot;</td><td>&quot;JP_1052&quot;</td><td>&quot; 190,000.00 &quot;</td><td>&quot;Director&quot;</td><td>0.2</td></tr><tr><td>&quot;Customer Service&quot;</td><td>&quot;Chieft Customer Officer&quot;</td><td>&quot;JP_1053&quot;</td><td>&quot; 380,000.00 &quot;</td><td>&quot;CSuite&quot;</td><td>0.5</td></tr></tbody></table></div>"
      ],
      "text/plain": [
       "shape: (54, 6)\n",
       "┌──────────────────┬──────────────────────────┬─────────────┬──────────────┬─────────────┬─────────┐\n",
       "│ Department       ┆ Job_title                ┆ Job_Profile ┆ Compensation ┆ Level       ┆ Bonus % │\n",
       "│ ---              ┆ ---                      ┆ ---         ┆ ---          ┆ ---         ┆ ---     │\n",
       "│ str              ┆ str                      ┆ str         ┆ str          ┆ str         ┆ f64     │\n",
       "╞══════════════════╪══════════════════════════╪═════════════╪══════════════╪═════════════╪═════════╡\n",
       "│ Corporate        ┆ CEO                      ┆ JP_1000     ┆  500,000.00  ┆ CSuite      ┆ 1.0     │\n",
       "│ Corporate        ┆ HR Manager               ┆ JP_1001     ┆  100,000.00  ┆ Manager     ┆ 0.2     │\n",
       "│ Corporate        ┆ AR Specialist            ┆ JP_1002     ┆  65,000.00   ┆ Individual  ┆ 0.15    │\n",
       "│                  ┆                          ┆             ┆              ┆ Contributor ┆         │\n",
       "│ Corporate        ┆ AP Specialist            ┆ JP_1003     ┆  65,000.00   ┆ Individual  ┆ 0.15    │\n",
       "│                  ┆                          ┆             ┆              ┆ Contributor ┆         │\n",
       "│ Corporate        ┆ FP&A Analyst             ┆ JP_1004     ┆  70,000.00   ┆ Individual  ┆ 0.15    │\n",
       "│                  ┆                          ┆             ┆              ┆ Contributor ┆         │\n",
       "│ …                ┆ …                        ┆ …           ┆ …            ┆ …           ┆ …       │\n",
       "│ Corporate        ┆ Chief Human Resources    ┆ JP_1049     ┆  380,000.00  ┆ CSuite      ┆ 0.5     │\n",
       "│                  ┆ Officer                  ┆             ┆              ┆             ┆         │\n",
       "│ Corporate        ┆ Senior, Finance          ┆ JP_1050     ┆  110,000.00  ┆ Senior      ┆ 0.15    │\n",
       "│ Corporate        ┆ Director, HR             ┆ JP_1051     ┆  180,000.00  ┆ Director    ┆ 0.2     │\n",
       "│ Corporate        ┆ Director, Finance        ┆ JP_1052     ┆  190,000.00  ┆ Director    ┆ 0.2     │\n",
       "│ Customer Service ┆ Chieft Customer Officer  ┆ JP_1053     ┆  380,000.00  ┆ CSuite      ┆ 0.5     │\n",
       "└──────────────────┴──────────────────────────┴─────────────┴──────────────┴─────────────┴─────────┘"
      ]
     },
     "metadata": {},
     "output_type": "display_data"
    },
    {
     "data": {
      "text/plain": [
       "Schema([('Department', String),\n",
       "        ('Job_title', String),\n",
       "        ('Job_Profile', String),\n",
       "        ('Compensation', String),\n",
       "        ('Level', String),\n",
       "        ('Bonus %', Float64)])"
      ]
     },
     "metadata": {},
     "output_type": "display_data"
    },
    {
     "name": "stdout",
     "output_type": "stream",
     "text": [
      "Company: \n",
      "\n"
     ]
    },
    {
     "data": {
      "text/html": [
       "<div><style>\n",
       ".dataframe > thead > tr,\n",
       ".dataframe > tbody > tr {\n",
       "  text-align: right;\n",
       "  white-space: pre-wrap;\n",
       "}\n",
       "</style>\n",
       "<small>shape: (4_968, 25)</small><table border=\"1\" class=\"dataframe\"><thead><tr><th>EmployeeID</th><th>First_Name</th><th>Surname</th><th>StreetAddress</th><th>City</th><th>State</th><th>StateFull</th><th>ZipCode</th><th>Country</th><th>CountryFull</th><th>Age</th><th>Office</th><th>Start_Date</th><th>Termination_Date</th><th>Office_Type</th><th>Department</th><th>Currency</th><th>Bonus_pct</th><th>Job_title</th><th>DOB</th><th>level</th><th>Salary</th><th>Active Status</th><th>Job_Profile</th><th>Notes</th></tr><tr><td>i64</td><td>str</td><td>str</td><td>str</td><td>str</td><td>str</td><td>str</td><td>str</td><td>str</td><td>str</td><td>i64</td><td>str</td><td>str</td><td>str</td><td>str</td><td>str</td><td>str</td><td>f64</td><td>str</td><td>str</td><td>str</td><td>i64</td><td>i64</td><td>str</td><td>str</td></tr></thead><tbody><tr><td>100001</td><td>&quot;Patrice&quot;</td><td>&quot;Moore&quot;</td><td>&quot;1427 Buckhannan Avenue&quot;</td><td>&quot;North Syracuse&quot;</td><td>&quot;NY&quot;</td><td>&quot;New York&quot;</td><td>&quot;13212&quot;</td><td>&quot;US&quot;</td><td>&quot;United States&quot;</td><td>35</td><td>&quot;NYC&quot;</td><td>&quot;5/4/2009&quot;</td><td>&quot;12/12/2999&quot;</td><td>&quot;Corporate&quot;</td><td>&quot;Corporate&quot;</td><td>&quot;USD&quot;</td><td>1.0</td><td>&quot;CEO&quot;</td><td>&quot;1/5/1986&quot;</td><td>&quot;CSuite&quot;</td><td>500000</td><td>1</td><td>&quot;JP_1000&quot;</td><td>&quot;Changes for 2021.06:&nbsp;&nbsp;&quot;</td></tr><tr><td>100002</td><td>&quot;David&quot;</td><td>&quot;Rickards&quot;</td><td>&quot;4265 Graystone Lakes&quot;</td><td>&quot;Macon&quot;</td><td>&quot;GA&quot;</td><td>&quot;Georgia&quot;</td><td>&quot;31206&quot;</td><td>&quot;US&quot;</td><td>&quot;United States&quot;</td><td>49</td><td>&quot;NYC&quot;</td><td>&quot;5/4/2009&quot;</td><td>&quot;12/12/2999&quot;</td><td>&quot;Corporate&quot;</td><td>&quot;Corporate&quot;</td><td>&quot;USD&quot;</td><td>0.2</td><td>&quot;HR Manager&quot;</td><td>&quot;7/13/1971&quot;</td><td>&quot;Manager&quot;</td><td>70000</td><td>1</td><td>&quot;JP_1001&quot;</td><td>&quot;Changes for 2021.06:&nbsp;&nbsp;&quot;</td></tr><tr><td>100003</td><td>&quot;Grace&quot;</td><td>&quot;Maldonado&quot;</td><td>&quot;1680 Hudson Street&quot;</td><td>&quot;Weehawken&quot;</td><td>&quot;NJ&quot;</td><td>&quot;New Jersey&quot;</td><td>&quot;07087&quot;</td><td>&quot;US&quot;</td><td>&quot;United States&quot;</td><td>32</td><td>&quot;NYC&quot;</td><td>&quot;5/18/2009&quot;</td><td>&quot;6/5/2013&quot;</td><td>&quot;Corporate&quot;</td><td>&quot;Marketing&quot;</td><td>&quot;USD&quot;</td><td>0.15</td><td>&quot;Graphic Designer&quot;</td><td>&quot;1/25/1989&quot;</td><td>&quot;Individual Contributor&quot;</td><td>77000</td><td>0</td><td>&quot;JP_1022&quot;</td><td>&quot;Changes for 2021.06:&nbsp;&nbsp;&quot;</td></tr><tr><td>100004</td><td>&quot;Justin&quot;</td><td>&quot;Edgin&quot;</td><td>&quot;1262 Limer Street&quot;</td><td>&quot;Rome&quot;</td><td>&quot;GA&quot;</td><td>&quot;Georgia&quot;</td><td>&quot;30165&quot;</td><td>&quot;US&quot;</td><td>&quot;United States&quot;</td><td>25</td><td>&quot;Boulder&quot;</td><td>&quot;6/22/2009&quot;</td><td>&quot;10/16/2013&quot;</td><td>&quot;Corporate&quot;</td><td>&quot;Technology&quot;</td><td>&quot;USD&quot;</td><td>0.5</td><td>&quot;CTO&quot;</td><td>&quot;5/1/1996&quot;</td><td>&quot;CSuite&quot;</td><td>400000</td><td>0</td><td>&quot;JP_1036&quot;</td><td>&quot;Changes for 2021.06:&nbsp;&nbsp;&quot;</td></tr><tr><td>100005</td><td>&quot;Benjamin&quot;</td><td>&quot;Vargas&quot;</td><td>&quot;2431 Rainbow Road&quot;</td><td>&quot;Santa Ana&quot;</td><td>&quot;CA&quot;</td><td>&quot;California&quot;</td><td>&quot;92705&quot;</td><td>&quot;US&quot;</td><td>&quot;United States&quot;</td><td>49</td><td>&quot;NYC&quot;</td><td>&quot;7/13/2009&quot;</td><td>&quot;1/10/2011&quot;</td><td>&quot;Corporate&quot;</td><td>&quot;Customer Service&quot;</td><td>&quot;USD&quot;</td><td>0.15</td><td>&quot;Associate Account Manager&quot;</td><td>&quot;5/5/1972&quot;</td><td>&quot;Manager&quot;</td><td>51000</td><td>0</td><td>&quot;JP_1015&quot;</td><td>&quot;Changes for 2021.06:&nbsp;&nbsp;&quot;</td></tr><tr><td>&hellip;</td><td>&hellip;</td><td>&hellip;</td><td>&hellip;</td><td>&hellip;</td><td>&hellip;</td><td>&hellip;</td><td>&hellip;</td><td>&hellip;</td><td>&hellip;</td><td>&hellip;</td><td>&hellip;</td><td>&hellip;</td><td>&hellip;</td><td>&hellip;</td><td>&hellip;</td><td>&hellip;</td><td>&hellip;</td><td>&hellip;</td><td>&hellip;</td><td>&hellip;</td><td>&hellip;</td><td>&hellip;</td><td>&hellip;</td><td>&hellip;</td></tr><tr><td>104964</td><td>&quot;John&quot;</td><td>&quot;Simpson&quot;</td><td>&quot;1381 Neville Street&quot;</td><td>&quot;Evansville&quot;</td><td>&quot;Indiana&quot;</td><td>&quot;Indiana&quot;</td><td>&quot;47711&quot;</td><td>&quot;US&quot;</td><td>&quot;United States&quot;</td><td>70</td><td>&quot;NYC&quot;</td><td>&quot;3/8/2021&quot;</td><td>&quot;11/27/2022&quot;</td><td>&quot;Corporate&quot;</td><td>&quot;Marketing&quot;</td><td>&quot;USD&quot;</td><td>0.5</td><td>&quot;Chief Marketing Officer&quot;</td><td>&quot;11/27/1950&quot;</td><td>&quot;CSuite&quot;</td><td>370000</td><td>1</td><td>&quot;JP_1045&quot;</td><td>&quot;Changes for 2021.06: Added on …</td></tr><tr><td>104965</td><td>&quot;Teresa&quot;</td><td>&quot;Nation&quot;</td><td>&quot;3336 Fleming Way&quot;</td><td>&quot;Richmond&quot;</td><td>&quot;Virginia&quot;</td><td>&quot;Virginia&quot;</td><td>&quot;23233&quot;</td><td>&quot;US&quot;</td><td>&quot;United States&quot;</td><td>46</td><td>&quot;Boulder&quot;</td><td>&quot;1/25/2021&quot;</td><td>&quot;12/12/2999&quot;</td><td>&quot;Technology&quot;</td><td>&quot;Technology&quot;</td><td>&quot;USD&quot;</td><td>0.15</td><td>&quot;Software Engineer&quot;</td><td>&quot;7/5/1975&quot;</td><td>&quot;Individual Contributor&quot;</td><td>77000</td><td>1</td><td>&quot;JP_1038&quot;</td><td>&quot;Changes for 2021.06: Added on …</td></tr><tr><td>104966</td><td>&quot;Lashandra&quot;</td><td>&quot;Hall&quot;</td><td>&quot;226 White River Way&quot;</td><td>&quot;Salt Lake City&quot;</td><td>&quot;Utah&quot;</td><td>&quot;Utah&quot;</td><td>&quot;84111&quot;</td><td>&quot;US&quot;</td><td>&quot;United States&quot;</td><td>39</td><td>&quot;SanJose&quot;</td><td>&quot;8/23/2021&quot;</td><td>&quot;12/12/2999&quot;</td><td>&quot;Corporate&quot;</td><td>&quot;Sales&quot;</td><td>&quot;USD&quot;</td><td>0.15</td><td>&quot;Sales Team Lead&quot;</td><td>&quot;4/3/1982&quot;</td><td>&quot;Senior&quot;</td><td>85500</td><td>1</td><td>&quot;JP_1034&quot;</td><td>&quot;Changes for 2021.06: Added on …</td></tr><tr><td>104967</td><td>&quot;Clara&quot;</td><td>&quot;Weisberg&quot;</td><td>&quot;3318 Maxwell Farm Road&quot;</td><td>&quot;Chico&quot;</td><td>&quot;California&quot;</td><td>&quot;California&quot;</td><td>&quot;95926&quot;</td><td>&quot;US&quot;</td><td>&quot;United States&quot;</td><td>20</td><td>&quot;Austin&quot;</td><td>&quot;2/1/2021&quot;</td><td>&quot;12/12/2999&quot;</td><td>&quot;Technology&quot;</td><td>&quot;Technology&quot;</td><td>&quot;USD&quot;</td><td>0.15</td><td>&quot;Senior Software Engineer&quot;</td><td>&quot;6/18/2001&quot;</td><td>&quot;Senior&quot;</td><td>98000</td><td>1</td><td>&quot;JP_1040&quot;</td><td>&quot;Changes for 2021.06: Added on …</td></tr><tr><td>104968</td><td>&quot;Kevin&quot;</td><td>&quot;Bender&quot;</td><td>&quot;1895 Powder House Road&quot;</td><td>&quot;Jupiter&quot;</td><td>&quot;Florida&quot;</td><td>&quot;Florida&quot;</td><td>&quot;33478&quot;</td><td>&quot;US&quot;</td><td>&quot;United States&quot;</td><td>51</td><td>&quot;NYC&quot;</td><td>&quot;9/6/2021&quot;</td><td>&quot;12/12/2999&quot;</td><td>&quot;Corporate&quot;</td><td>&quot;Corporate&quot;</td><td>&quot;USD&quot;</td><td>0.5</td><td>&quot;Chief Financial Officer&quot;</td><td>&quot;2/6/1970&quot;</td><td>&quot;CSuite&quot;</td><td>390000</td><td>1</td><td>&quot;JP_1048&quot;</td><td>&quot;Changes for 2021.06: Added on …</td></tr></tbody></table></div>"
      ],
      "text/plain": [
       "shape: (4_968, 25)\n",
       "┌────────────┬────────────┬───────────┬────────────┬───┬────────┬────────┬────────────┬────────────┐\n",
       "│ EmployeeID ┆ First_Name ┆ Surname   ┆ StreetAddr ┆ … ┆ Salary ┆ Active ┆ Job_Profil ┆ Notes      │\n",
       "│ ---        ┆ ---        ┆ ---       ┆ ess        ┆   ┆ ---    ┆ Status ┆ e          ┆ ---        │\n",
       "│ i64        ┆ str        ┆ str       ┆ ---        ┆   ┆ i64    ┆ ---    ┆ ---        ┆ str        │\n",
       "│            ┆            ┆           ┆ str        ┆   ┆        ┆ i64    ┆ str        ┆            │\n",
       "╞════════════╪════════════╪═══════════╪════════════╪═══╪════════╪════════╪════════════╪════════════╡\n",
       "│ 100001     ┆ Patrice    ┆ Moore     ┆ 1427       ┆ … ┆ 500000 ┆ 1      ┆ JP_1000    ┆ Changes    │\n",
       "│            ┆            ┆           ┆ Buckhannan ┆   ┆        ┆        ┆            ┆ for        │\n",
       "│            ┆            ┆           ┆ Avenue     ┆   ┆        ┆        ┆            ┆ 2021.06:   │\n",
       "│ 100002     ┆ David      ┆ Rickards  ┆ 4265       ┆ … ┆ 70000  ┆ 1      ┆ JP_1001    ┆ Changes    │\n",
       "│            ┆            ┆           ┆ Graystone  ┆   ┆        ┆        ┆            ┆ for        │\n",
       "│            ┆            ┆           ┆ Lakes      ┆   ┆        ┆        ┆            ┆ 2021.06:   │\n",
       "│ 100003     ┆ Grace      ┆ Maldonado ┆ 1680       ┆ … ┆ 77000  ┆ 0      ┆ JP_1022    ┆ Changes    │\n",
       "│            ┆            ┆           ┆ Hudson     ┆   ┆        ┆        ┆            ┆ for        │\n",
       "│            ┆            ┆           ┆ Street     ┆   ┆        ┆        ┆            ┆ 2021.06:   │\n",
       "│ 100004     ┆ Justin     ┆ Edgin     ┆ 1262 Limer ┆ … ┆ 400000 ┆ 0      ┆ JP_1036    ┆ Changes    │\n",
       "│            ┆            ┆           ┆ Street     ┆   ┆        ┆        ┆            ┆ for        │\n",
       "│            ┆            ┆           ┆            ┆   ┆        ┆        ┆            ┆ 2021.06:   │\n",
       "│ 100005     ┆ Benjamin   ┆ Vargas    ┆ 2431       ┆ … ┆ 51000  ┆ 0      ┆ JP_1015    ┆ Changes    │\n",
       "│            ┆            ┆           ┆ Rainbow    ┆   ┆        ┆        ┆            ┆ for        │\n",
       "│            ┆            ┆           ┆ Road       ┆   ┆        ┆        ┆            ┆ 2021.06:   │\n",
       "│ …          ┆ …          ┆ …         ┆ …          ┆ … ┆ …      ┆ …      ┆ …          ┆ …          │\n",
       "│ 104964     ┆ John       ┆ Simpson   ┆ 1381       ┆ … ┆ 370000 ┆ 1      ┆ JP_1045    ┆ Changes    │\n",
       "│            ┆            ┆           ┆ Neville    ┆   ┆        ┆        ┆            ┆ for        │\n",
       "│            ┆            ┆           ┆ Street     ┆   ┆        ┆        ┆            ┆ 2021.06:   │\n",
       "│            ┆            ┆           ┆            ┆   ┆        ┆        ┆            ┆ Added on … │\n",
       "│ 104965     ┆ Teresa     ┆ Nation    ┆ 3336       ┆ … ┆ 77000  ┆ 1      ┆ JP_1038    ┆ Changes    │\n",
       "│            ┆            ┆           ┆ Fleming    ┆   ┆        ┆        ┆            ┆ for        │\n",
       "│            ┆            ┆           ┆ Way        ┆   ┆        ┆        ┆            ┆ 2021.06:   │\n",
       "│            ┆            ┆           ┆            ┆   ┆        ┆        ┆            ┆ Added on … │\n",
       "│ 104966     ┆ Lashandra  ┆ Hall      ┆ 226 White  ┆ … ┆ 85500  ┆ 1      ┆ JP_1034    ┆ Changes    │\n",
       "│            ┆            ┆           ┆ River Way  ┆   ┆        ┆        ┆            ┆ for        │\n",
       "│            ┆            ┆           ┆            ┆   ┆        ┆        ┆            ┆ 2021.06:   │\n",
       "│            ┆            ┆           ┆            ┆   ┆        ┆        ┆            ┆ Added on … │\n",
       "│ 104967     ┆ Clara      ┆ Weisberg  ┆ 3318       ┆ … ┆ 98000  ┆ 1      ┆ JP_1040    ┆ Changes    │\n",
       "│            ┆            ┆           ┆ Maxwell    ┆   ┆        ┆        ┆            ┆ for        │\n",
       "│            ┆            ┆           ┆ Farm Road  ┆   ┆        ┆        ┆            ┆ 2021.06:   │\n",
       "│            ┆            ┆           ┆            ┆   ┆        ┆        ┆            ┆ Added on … │\n",
       "│ 104968     ┆ Kevin      ┆ Bender    ┆ 1895       ┆ … ┆ 390000 ┆ 1      ┆ JP_1048    ┆ Changes    │\n",
       "│            ┆            ┆           ┆ Powder     ┆   ┆        ┆        ┆            ┆ for        │\n",
       "│            ┆            ┆           ┆ House Road ┆   ┆        ┆        ┆            ┆ 2021.06:   │\n",
       "│            ┆            ┆           ┆            ┆   ┆        ┆        ┆            ┆ Added on … │\n",
       "└────────────┴────────────┴───────────┴────────────┴───┴────────┴────────┴────────────┴────────────┘"
      ]
     },
     "metadata": {},
     "output_type": "display_data"
    },
    {
     "data": {
      "text/plain": [
       "Schema([('EmployeeID', Int64),\n",
       "        ('First_Name', String),\n",
       "        ('Surname', String),\n",
       "        ('StreetAddress', String),\n",
       "        ('City', String),\n",
       "        ('State', String),\n",
       "        ('StateFull', String),\n",
       "        ('ZipCode', String),\n",
       "        ('Country', String),\n",
       "        ('CountryFull', String),\n",
       "        ('Age', Int64),\n",
       "        ('Office', String),\n",
       "        ('Start_Date', String),\n",
       "        ('Termination_Date', String),\n",
       "        ('Office_Type', String),\n",
       "        ('Department', String),\n",
       "        ('Currency', String),\n",
       "        ('Bonus_pct', Float64),\n",
       "        ('Job_title', String),\n",
       "        ('DOB', String),\n",
       "        ('level', String),\n",
       "        ('Salary', Int64),\n",
       "        ('Active Status', Int64),\n",
       "        ('Job_Profile', String),\n",
       "        ('Notes', String)])"
      ]
     },
     "metadata": {},
     "output_type": "display_data"
    }
   ],
   "source": [
    "dir = '/kaggle/input/human-resource-data-set-the-company/'\n",
    "COL = pl.read_csv(dir + '2021.06_COL_2021.txt',separator=\"\\t\")\n",
    "Diversity = pl.read_csv(dir + 'Diversity.txt',separator=\"\\t\")\n",
    "Engagement = pl.read_csv(dir + 'EngagementSurvey.txt',separator=\"\\t\")\n",
    "Profile = pl.read_csv(dir + '2021.06_job_profile_mapping.txt',separator=\"\\t\")\n",
    "Profile.columns = [col.strip() for col in Profile.columns]\n",
    "# Define the correct data type for the ZipCode column\n",
    "overrides = {\n",
    "    \"ZipCode\": pl.Utf8\n",
    "}\n",
    "\n",
    "Company = pl.read_csv(dir + 'CompanyData.txt', separator=\"\\t\", encoding=\"utf-16-le\",schema_overrides=overrides)\n",
    "\n",
    "print('dir: \\n')\n",
    "display(dir)\n",
    "print('COL (Cost of Living Table): \\n')\n",
    "display(COL)\n",
    "print('Diversity: \\n')\n",
    "display(Diversity)\n",
    "print('Engagement: \\n')\n",
    "display(Engagement)\n",
    "display(Engagement.schema)\n",
    "print('Profile: \\n')\n",
    "display(Profile)\n",
    "display(Profile.schema)\n",
    "print('Company: \\n')\n",
    "display(Company)\n",
    "\n",
    "display(Company.schema)"
   ]
  },
  {
   "cell_type": "code",
   "execution_count": 3,
   "id": "1ba6ddd1",
   "metadata": {
    "_cell_guid": "abcd5887-6c01-49b8-a0f3-b08f609c1806",
    "_uuid": "25e0c937-0d46-42ef-bb63-eaaea2bc8b22",
    "collapsed": false,
    "execution": {
     "iopub.execute_input": "2025-09-03T16:38:08.172615Z",
     "iopub.status.busy": "2025-09-03T16:38:08.172300Z",
     "iopub.status.idle": "2025-09-03T16:38:08.197483Z",
     "shell.execute_reply": "2025-09-03T16:38:08.196669Z"
    },
    "jupyter": {
     "outputs_hidden": false
    },
    "papermill": {
     "duration": 0.031997,
     "end_time": "2025-09-03T16:38:08.198838",
     "exception": false,
     "start_time": "2025-09-03T16:38:08.166841",
     "status": "completed"
    },
    "tags": []
   },
   "outputs": [
    {
     "name": "stdout",
     "output_type": "stream",
     "text": [
      "COL (Cost of Living Table): \n",
      "\n"
     ]
    },
    {
     "data": {
      "text/html": [
       "<div><style>\n",
       ".dataframe > thead > tr,\n",
       ".dataframe > tbody > tr {\n",
       "  text-align: right;\n",
       "  white-space: pre-wrap;\n",
       "}\n",
       "</style>\n",
       "<small>shape: (1, 3)</small><table border=\"1\" class=\"dataframe\"><thead><tr><th>Office</th><th>COL Amount</th><th>Currency</th></tr><tr><td>u32</td><td>u32</td><td>u32</td></tr></thead><tbody><tr><td>0</td><td>0</td><td>0</td></tr></tbody></table></div>"
      ],
      "text/plain": [
       "shape: (1, 3)\n",
       "┌────────┬────────────┬──────────┐\n",
       "│ Office ┆ COL Amount ┆ Currency │\n",
       "│ ---    ┆ ---        ┆ ---      │\n",
       "│ u32    ┆ u32        ┆ u32      │\n",
       "╞════════╪════════════╪══════════╡\n",
       "│ 0      ┆ 0          ┆ 0        │\n",
       "└────────┴────────────┴──────────┘"
      ]
     },
     "metadata": {},
     "output_type": "display_data"
    },
    {
     "name": "stdout",
     "output_type": "stream",
     "text": [
      "Diversity: \n",
      "\n"
     ]
    },
    {
     "data": {
      "text/html": [
       "<div><style>\n",
       ".dataframe > thead > tr,\n",
       ".dataframe > tbody > tr {\n",
       "  text-align: right;\n",
       "  white-space: pre-wrap;\n",
       "}\n",
       "</style>\n",
       "<small>shape: (1, 8)</small><table border=\"1\" class=\"dataframe\"><thead><tr><th>EmployeeID</th><th>Gender</th><th>Gender Identity</th><th>Race/Ethnicity</th><th>Veteran</th><th>Disability</th><th>Education</th><th>Sexual Orientation</th></tr><tr><td>u32</td><td>u32</td><td>u32</td><td>u32</td><td>u32</td><td>u32</td><td>u32</td><td>u32</td></tr></thead><tbody><tr><td>0</td><td>0</td><td>0</td><td>549</td><td>0</td><td>0</td><td>0</td><td>0</td></tr></tbody></table></div>"
      ],
      "text/plain": [
       "shape: (1, 8)\n",
       "┌────────────┬────────┬──────────┬───────────────┬─────────┬────────────┬───────────┬──────────────┐\n",
       "│ EmployeeID ┆ Gender ┆ Gender   ┆ Race/Ethnicit ┆ Veteran ┆ Disability ┆ Education ┆ Sexual       │\n",
       "│ ---        ┆ ---    ┆ Identity ┆ y             ┆ ---     ┆ ---        ┆ ---       ┆ Orientation  │\n",
       "│ u32        ┆ u32    ┆ ---      ┆ ---           ┆ u32     ┆ u32        ┆ u32       ┆ ---          │\n",
       "│            ┆        ┆ u32      ┆ u32           ┆         ┆            ┆           ┆ u32          │\n",
       "╞════════════╪════════╪══════════╪═══════════════╪═════════╪════════════╪═══════════╪══════════════╡\n",
       "│ 0          ┆ 0      ┆ 0        ┆ 549           ┆ 0       ┆ 0          ┆ 0         ┆ 0            │\n",
       "└────────────┴────────┴──────────┴───────────────┴─────────┴────────────┴───────────┴──────────────┘"
      ]
     },
     "metadata": {},
     "output_type": "display_data"
    },
    {
     "name": "stdout",
     "output_type": "stream",
     "text": [
      "Engagement: \n",
      "\n"
     ]
    },
    {
     "data": {
      "text/html": [
       "<div><style>\n",
       ".dataframe > thead > tr,\n",
       ".dataframe > tbody > tr {\n",
       "  text-align: right;\n",
       "  white-space: pre-wrap;\n",
       "}\n",
       "</style>\n",
       "<small>shape: (1, 23)</small><table border=\"1\" class=\"dataframe\"><thead><tr><th>EmployeeID</th><th>Survey</th><th>I would recommend my friends or Family to work at TheCompany</th><th>I feel engaged in my work.</th><th>I believe Leadership cares about the employees at TheCompany</th><th>My manager supports me in my role at TheCompany</th><th>TheCompany cares about Diversity, Equity and Inclusion.</th><th>I believe there is room for me to grow at TheCompany</th><th>I work on interesting projects.</th><th>My manager motivates me to work hard.</th><th>I am motivated to work hard at TheCompany.</th><th>I believe I am recognized for the work I do.</th><th>I believe there are good career opportunities for me at TheCompany.</th><th>I believe TheCompany is in a great position in the market for the next few years to be succesful.</th><th>I plan on staying with TheCompany for at least 2 more years.</th><th>I believe I am fairly compensated for my work.</th><th>I believe there is little to not politics at TheCompany</th><th>I feel comfortable going to someone in leadership if there is an issue.</th><th>My values align with the culture at TheCompany</th><th>I know what TheCompany values are at TheCompany</th><th>I feel like I can take off my accrued Paid Time Off (PTO)/Vacation without feeling guilty</th><th>What does TheCompany do well?</th><th>What can TheCompany improve?</th></tr><tr><td>u32</td><td>u32</td><td>u32</td><td>u32</td><td>u32</td><td>u32</td><td>u32</td><td>u32</td><td>u32</td><td>u32</td><td>u32</td><td>u32</td><td>u32</td><td>u32</td><td>u32</td><td>u32</td><td>u32</td><td>u32</td><td>u32</td><td>u32</td><td>u32</td><td>u32</td><td>u32</td></tr></thead><tbody><tr><td>0</td><td>0</td><td>0</td><td>0</td><td>0</td><td>0</td><td>0</td><td>0</td><td>0</td><td>0</td><td>0</td><td>0</td><td>0</td><td>0</td><td>0</td><td>0</td><td>0</td><td>0</td><td>0</td><td>0</td><td>0</td><td>2827</td><td>2827</td></tr></tbody></table></div>"
      ],
      "text/plain": [
       "shape: (1, 23)\n",
       "┌────────────┬────────┬────────────┬───────────┬───┬───────────┬───────────┬───────────┬───────────┐\n",
       "│ EmployeeID ┆ Survey ┆ I would    ┆ I feel    ┆ … ┆ I know    ┆ I feel    ┆ What does ┆ What can  │\n",
       "│ ---        ┆ ---    ┆ recommend  ┆ engaged   ┆   ┆ what TheC ┆ like I    ┆ TheCompan ┆ TheCompan │\n",
       "│ u32        ┆ u32    ┆ my friends ┆ in my     ┆   ┆ ompany    ┆ can take  ┆ y do      ┆ y         │\n",
       "│            ┆        ┆ o…         ┆ work.     ┆   ┆ values …  ┆ off my …  ┆ well?     ┆ improve?  │\n",
       "│            ┆        ┆ ---        ┆ ---       ┆   ┆ ---       ┆ ---       ┆ ---       ┆ ---       │\n",
       "│            ┆        ┆ u32        ┆ u32       ┆   ┆ u32       ┆ u32       ┆ u32       ┆ u32       │\n",
       "╞════════════╪════════╪════════════╪═══════════╪═══╪═══════════╪═══════════╪═══════════╪═══════════╡\n",
       "│ 0          ┆ 0      ┆ 0          ┆ 0         ┆ … ┆ 0         ┆ 0         ┆ 2827      ┆ 2827      │\n",
       "└────────────┴────────┴────────────┴───────────┴───┴───────────┴───────────┴───────────┴───────────┘"
      ]
     },
     "metadata": {},
     "output_type": "display_data"
    },
    {
     "name": "stdout",
     "output_type": "stream",
     "text": [
      "Profile: \n",
      "\n"
     ]
    },
    {
     "data": {
      "text/html": [
       "<div><style>\n",
       ".dataframe > thead > tr,\n",
       ".dataframe > tbody > tr {\n",
       "  text-align: right;\n",
       "  white-space: pre-wrap;\n",
       "}\n",
       "</style>\n",
       "<small>shape: (1, 6)</small><table border=\"1\" class=\"dataframe\"><thead><tr><th>Department</th><th>Job_title</th><th>Job_Profile</th><th>Compensation</th><th>Level</th><th>Bonus %</th></tr><tr><td>u32</td><td>u32</td><td>u32</td><td>u32</td><td>u32</td><td>u32</td></tr></thead><tbody><tr><td>0</td><td>0</td><td>0</td><td>0</td><td>0</td><td>0</td></tr></tbody></table></div>"
      ],
      "text/plain": [
       "shape: (1, 6)\n",
       "┌────────────┬───────────┬─────────────┬──────────────┬───────┬─────────┐\n",
       "│ Department ┆ Job_title ┆ Job_Profile ┆ Compensation ┆ Level ┆ Bonus % │\n",
       "│ ---        ┆ ---       ┆ ---         ┆ ---          ┆ ---   ┆ ---     │\n",
       "│ u32        ┆ u32       ┆ u32         ┆ u32          ┆ u32   ┆ u32     │\n",
       "╞════════════╪═══════════╪═════════════╪══════════════╪═══════╪═════════╡\n",
       "│ 0          ┆ 0         ┆ 0           ┆ 0            ┆ 0     ┆ 0       │\n",
       "└────────────┴───────────┴─────────────┴──────────────┴───────┴─────────┘"
      ]
     },
     "metadata": {},
     "output_type": "display_data"
    },
    {
     "name": "stdout",
     "output_type": "stream",
     "text": [
      "Company: \n",
      "\n"
     ]
    },
    {
     "data": {
      "text/html": [
       "<div><style>\n",
       ".dataframe > thead > tr,\n",
       ".dataframe > tbody > tr {\n",
       "  text-align: right;\n",
       "  white-space: pre-wrap;\n",
       "}\n",
       "</style>\n",
       "<small>shape: (1, 25)</small><table border=\"1\" class=\"dataframe\"><thead><tr><th>EmployeeID</th><th>First_Name</th><th>Surname</th><th>StreetAddress</th><th>City</th><th>State</th><th>StateFull</th><th>ZipCode</th><th>Country</th><th>CountryFull</th><th>Age</th><th>Office</th><th>Start_Date</th><th>Termination_Date</th><th>Office_Type</th><th>Department</th><th>Currency</th><th>Bonus_pct</th><th>Job_title</th><th>DOB</th><th>level</th><th>Salary</th><th>Active Status</th><th>Job_Profile</th><th>Notes</th></tr><tr><td>u32</td><td>u32</td><td>u32</td><td>u32</td><td>u32</td><td>u32</td><td>u32</td><td>u32</td><td>u32</td><td>u32</td><td>u32</td><td>u32</td><td>u32</td><td>u32</td><td>u32</td><td>u32</td><td>u32</td><td>u32</td><td>u32</td><td>u32</td><td>u32</td><td>u32</td><td>u32</td><td>u32</td><td>u32</td></tr></thead><tbody><tr><td>0</td><td>0</td><td>0</td><td>122</td><td>122</td><td>522</td><td>523</td><td>0</td><td>0</td><td>0</td><td>0</td><td>0</td><td>0</td><td>0</td><td>0</td><td>0</td><td>0</td><td>0</td><td>0</td><td>0</td><td>0</td><td>0</td><td>0</td><td>0</td><td>0</td></tr></tbody></table></div>"
      ],
      "text/plain": [
       "shape: (1, 25)\n",
       "┌────────────┬────────────┬─────────┬───────────────┬───┬────────┬────────┬─────────────┬───────┐\n",
       "│ EmployeeID ┆ First_Name ┆ Surname ┆ StreetAddress ┆ … ┆ Salary ┆ Active ┆ Job_Profile ┆ Notes │\n",
       "│ ---        ┆ ---        ┆ ---     ┆ ---           ┆   ┆ ---    ┆ Status ┆ ---         ┆ ---   │\n",
       "│ u32        ┆ u32        ┆ u32     ┆ u32           ┆   ┆ u32    ┆ ---    ┆ u32         ┆ u32   │\n",
       "│            ┆            ┆         ┆               ┆   ┆        ┆ u32    ┆             ┆       │\n",
       "╞════════════╪════════════╪═════════╪═══════════════╪═══╪════════╪════════╪═════════════╪═══════╡\n",
       "│ 0          ┆ 0          ┆ 0       ┆ 122           ┆ … ┆ 0      ┆ 0      ┆ 0           ┆ 0     │\n",
       "└────────────┴────────────┴─────────┴───────────────┴───┴────────┴────────┴─────────────┴───────┘"
      ]
     },
     "metadata": {},
     "output_type": "display_data"
    }
   ],
   "source": [
    "#Check null\n",
    "print('COL (Cost of Living Table): \\n')\n",
    "display(COL.null_count())\n",
    "print('Diversity: \\n')\n",
    "display(Diversity.null_count())\n",
    "print('Engagement: \\n')\n",
    "display(Engagement.null_count())\n",
    "print('Profile: \\n')\n",
    "display(Profile.null_count())\n",
    "print('Company: \\n')\n",
    "display(Company.null_count())"
   ]
  },
  {
   "cell_type": "code",
   "execution_count": 4,
   "id": "6ba64781",
   "metadata": {
    "_cell_guid": "71dfd8e1-54c5-4862-a758-c5673032533c",
    "_uuid": "bf31d4fa-b40e-4db6-ac88-03dfec9bc329",
    "collapsed": false,
    "execution": {
     "iopub.execute_input": "2025-09-03T16:38:08.211448Z",
     "iopub.status.busy": "2025-09-03T16:38:08.211142Z",
     "iopub.status.idle": "2025-09-03T16:38:08.215538Z",
     "shell.execute_reply": "2025-09-03T16:38:08.214708Z"
    },
    "jupyter": {
     "outputs_hidden": false
    },
    "papermill": {
     "duration": 0.012484,
     "end_time": "2025-09-03T16:38:08.216990",
     "exception": false,
     "start_time": "2025-09-03T16:38:08.204506",
     "status": "completed"
    },
    "tags": []
   },
   "outputs": [],
   "source": [
    "# Currency Transformation\n",
    "Currency_Rate = {\n",
    "\"JPY\": 0.0091,\n",
    "\"HKD\": 0.127,\n",
    "\"USD\": 1,\n",
    "\"GBP\": 1.36,\n",
    "\"NOK\": 0.11\n",
    "}"
   ]
  },
  {
   "cell_type": "code",
   "execution_count": 5,
   "id": "2a2557cd",
   "metadata": {
    "_cell_guid": "b954a64a-8149-42fd-9768-32a936e71a5e",
    "_uuid": "61ff2527-498b-4d35-9f3d-c27b5a0e7dd5",
    "collapsed": false,
    "execution": {
     "iopub.execute_input": "2025-09-03T16:38:08.229140Z",
     "iopub.status.busy": "2025-09-03T16:38:08.228507Z",
     "iopub.status.idle": "2025-09-03T16:38:08.347442Z",
     "shell.execute_reply": "2025-09-03T16:38:08.346425Z"
    },
    "jupyter": {
     "outputs_hidden": false
    },
    "papermill": {
     "duration": 0.126894,
     "end_time": "2025-09-03T16:38:08.349323",
     "exception": false,
     "start_time": "2025-09-03T16:38:08.222429",
     "status": "completed"
    },
    "tags": []
   },
   "outputs": [
    {
     "name": "stdout",
     "output_type": "stream",
     "text": [
      "shape: (2, 2)\n",
      "┌───────────────────┬──────────────────────────┐\n",
      "│ Employment_Status ┆ average_engagement_score │\n",
      "│ ---               ┆ ---                      │\n",
      "│ str               ┆ f64                      │\n",
      "╞═══════════════════╪══════════════════════════╡\n",
      "│ Active            ┆ 2.923332                 │\n",
      "│ Terminated        ┆ 2.975845                 │\n",
      "└───────────────────┴──────────────────────────┘\n"
     ]
    }
   ],
   "source": [
    "df_combined = Company.join(Engagement, on='EmployeeID', how='inner')\n",
    "df_with_status = df_combined.with_columns(\n",
    "    pl.when(pl.col('Termination_Date') == '12/12/2999') \n",
    "    . then (pl.lit('Active'))\n",
    "    . otherwise (pl.lit('Terminated'))\n",
    "    . alias('Employment_Status')\n",
    ")\n",
    "engagement_by_status = df_with_status.group_by('Employment_Status').agg(\n",
    "    pl.col('I feel engaged in my work.').mean().alias('average_engagement_score')\n",
    ").sort('Employment_Status')\n",
    "print(engagement_by_status)"
   ]
  },
  {
   "cell_type": "code",
   "execution_count": 6,
   "id": "060f3bcb",
   "metadata": {
    "_cell_guid": "48744e56-3c50-4166-a540-6e9a0584db4b",
    "_uuid": "839000c5-09ef-40a6-9f2d-9dbee7eef7f0",
    "collapsed": false,
    "execution": {
     "iopub.execute_input": "2025-09-03T16:38:08.363970Z",
     "iopub.status.busy": "2025-09-03T16:38:08.363063Z",
     "iopub.status.idle": "2025-09-03T16:38:08.381567Z",
     "shell.execute_reply": "2025-09-03T16:38:08.380688Z"
    },
    "jupyter": {
     "outputs_hidden": false
    },
    "papermill": {
     "duration": 0.027713,
     "end_time": "2025-09-03T16:38:08.383689",
     "exception": false,
     "start_time": "2025-09-03T16:38:08.355976",
     "status": "completed"
    },
    "tags": []
   },
   "outputs": [
    {
     "data": {
      "text/html": [
       "<div><style>\n",
       ".dataframe > thead > tr,\n",
       ".dataframe > tbody > tr {\n",
       "  text-align: right;\n",
       "  white-space: pre-wrap;\n",
       "}\n",
       "</style>\n",
       "<small>shape: (4_968, 4)</small><table border=\"1\" class=\"dataframe\"><thead><tr><th>EmployeeID</th><th>Job_Profile</th><th>Job_title</th><th>Level</th></tr><tr><td>i64</td><td>str</td><td>str</td><td>str</td></tr></thead><tbody><tr><td>100001</td><td>&quot;JP_1000&quot;</td><td>&quot;CEO&quot;</td><td>&quot;CSuite&quot;</td></tr><tr><td>100002</td><td>&quot;JP_1001&quot;</td><td>&quot;HR Manager&quot;</td><td>&quot;Manager&quot;</td></tr><tr><td>100003</td><td>&quot;JP_1022&quot;</td><td>&quot;Graphic Designer&quot;</td><td>&quot;Individual Contributor&quot;</td></tr><tr><td>100004</td><td>&quot;JP_1036&quot;</td><td>&quot;CTO&quot;</td><td>&quot;CSuite&quot;</td></tr><tr><td>100005</td><td>&quot;JP_1015&quot;</td><td>&quot;Associate Account Manager&quot;</td><td>&quot;Individual Contributor&quot;</td></tr><tr><td>&hellip;</td><td>&hellip;</td><td>&hellip;</td><td>&hellip;</td></tr><tr><td>104964</td><td>&quot;JP_1045&quot;</td><td>&quot;Chief Marketing Officer&quot;</td><td>&quot;CSuite&quot;</td></tr><tr><td>104965</td><td>&quot;JP_1038&quot;</td><td>&quot;Software Engineer&quot;</td><td>&quot;Individual Contributor&quot;</td></tr><tr><td>104966</td><td>&quot;JP_1034&quot;</td><td>&quot;Sales Team Lead&quot;</td><td>&quot;Senior&quot;</td></tr><tr><td>104967</td><td>&quot;JP_1040&quot;</td><td>&quot;Senior Software Engineer&quot;</td><td>&quot;Senior&quot;</td></tr><tr><td>104968</td><td>&quot;JP_1048&quot;</td><td>&quot;Chief Financial Officer&quot;</td><td>&quot;CSuite&quot;</td></tr></tbody></table></div>"
      ],
      "text/plain": [
       "shape: (4_968, 4)\n",
       "┌────────────┬─────────────┬───────────────────────────┬────────────────────────┐\n",
       "│ EmployeeID ┆ Job_Profile ┆ Job_title                 ┆ Level                  │\n",
       "│ ---        ┆ ---         ┆ ---                       ┆ ---                    │\n",
       "│ i64        ┆ str         ┆ str                       ┆ str                    │\n",
       "╞════════════╪═════════════╪═══════════════════════════╪════════════════════════╡\n",
       "│ 100001     ┆ JP_1000     ┆ CEO                       ┆ CSuite                 │\n",
       "│ 100002     ┆ JP_1001     ┆ HR Manager                ┆ Manager                │\n",
       "│ 100003     ┆ JP_1022     ┆ Graphic Designer          ┆ Individual Contributor │\n",
       "│ 100004     ┆ JP_1036     ┆ CTO                       ┆ CSuite                 │\n",
       "│ 100005     ┆ JP_1015     ┆ Associate Account Manager ┆ Individual Contributor │\n",
       "│ …          ┆ …           ┆ …                         ┆ …                      │\n",
       "│ 104964     ┆ JP_1045     ┆ Chief Marketing Officer   ┆ CSuite                 │\n",
       "│ 104965     ┆ JP_1038     ┆ Software Engineer         ┆ Individual Contributor │\n",
       "│ 104966     ┆ JP_1034     ┆ Sales Team Lead           ┆ Senior                 │\n",
       "│ 104967     ┆ JP_1040     ┆ Senior Software Engineer  ┆ Senior                 │\n",
       "│ 104968     ┆ JP_1048     ┆ Chief Financial Officer   ┆ CSuite                 │\n",
       "└────────────┴─────────────┴───────────────────────────┴────────────────────────┘"
      ]
     },
     "metadata": {},
     "output_type": "display_data"
    },
    {
     "data": {
      "text/html": [
       "<div><style>\n",
       ".dataframe > thead > tr,\n",
       ".dataframe > tbody > tr {\n",
       "  text-align: right;\n",
       "  white-space: pre-wrap;\n",
       "}\n",
       "</style>\n",
       "<small>shape: (8, 2)</small><table border=\"1\" class=\"dataframe\"><thead><tr><th>Level</th><th>Employee_Counts</th></tr><tr><td>str</td><td>u32</td></tr></thead><tbody><tr><td>&quot;Associate&quot;</td><td>216</td></tr><tr><td>&quot;Manager&quot;</td><td>501</td></tr><tr><td>&quot;Senior&quot;</td><td>584</td></tr><tr><td>&quot;Director&quot;</td><td>400</td></tr><tr><td>&quot;SVP&quot;</td><td>7</td></tr><tr><td>&quot;Individual Contributor&quot;</td><td>3140</td></tr><tr><td>&quot;CSuite&quot;</td><td>6</td></tr><tr><td>&quot;VP&quot;</td><td>114</td></tr></tbody></table></div>"
      ],
      "text/plain": [
       "shape: (8, 2)\n",
       "┌────────────────────────┬─────────────────┐\n",
       "│ Level                  ┆ Employee_Counts │\n",
       "│ ---                    ┆ ---             │\n",
       "│ str                    ┆ u32             │\n",
       "╞════════════════════════╪═════════════════╡\n",
       "│ Associate              ┆ 216             │\n",
       "│ Manager                ┆ 501             │\n",
       "│ Senior                 ┆ 584             │\n",
       "│ Director               ┆ 400             │\n",
       "│ SVP                    ┆ 7               │\n",
       "│ Individual Contributor ┆ 3140            │\n",
       "│ CSuite                 ┆ 6               │\n",
       "│ VP                     ┆ 114             │\n",
       "└────────────────────────┴─────────────────┘"
      ]
     },
     "metadata": {},
     "output_type": "display_data"
    }
   ],
   "source": [
    "df_combined = Company.join(Profile, on = 'Job_Profile', how = 'inner')\n",
    "\n",
    "display(df_combined[['EmployeeID','Job_Profile','Job_title','Level']])\n",
    "df_agg = df_combined.group_by('Level').agg(pl.col('EmployeeID').count().alias('Employee_Counts'))\n",
    "\n",
    "display(df_agg)"
   ]
  },
  {
   "cell_type": "code",
   "execution_count": 7,
   "id": "434f65fe",
   "metadata": {
    "_cell_guid": "3f263da6-92f2-4b5f-95e7-73098abed56a",
    "_uuid": "b23fd566-75ee-492d-a391-04420688d200",
    "collapsed": false,
    "execution": {
     "iopub.execute_input": "2025-09-03T16:38:08.397433Z",
     "iopub.status.busy": "2025-09-03T16:38:08.397127Z",
     "iopub.status.idle": "2025-09-03T16:38:08.420483Z",
     "shell.execute_reply": "2025-09-03T16:38:08.419704Z"
    },
    "jupyter": {
     "outputs_hidden": false
    },
    "papermill": {
     "duration": 0.03208,
     "end_time": "2025-09-03T16:38:08.421813",
     "exception": false,
     "start_time": "2025-09-03T16:38:08.389733",
     "status": "completed"
    },
    "tags": []
   },
   "outputs": [
    {
     "data": {
      "text/html": [
       "<div><style>\n",
       ".dataframe > thead > tr,\n",
       ".dataframe > tbody > tr {\n",
       "  text-align: right;\n",
       "  white-space: pre-wrap;\n",
       "}\n",
       "</style>\n",
       "<small>shape: (4_968, 7)</small><table border=\"1\" class=\"dataframe\"><thead><tr><th>EmployeeID</th><th>Job_Profile</th><th>COL Amount</th><th>Office</th><th>Compensation</th><th>Currency</th><th>Salary</th></tr><tr><td>i64</td><td>str</td><td>i64</td><td>str</td><td>str</td><td>str</td><td>i64</td></tr></thead><tbody><tr><td>100001</td><td>&quot;JP_1000&quot;</td><td>100</td><td>&quot;NYC&quot;</td><td>&quot; 500,000.00 &quot;</td><td>&quot;USD&quot;</td><td>500000</td></tr><tr><td>100002</td><td>&quot;JP_1001&quot;</td><td>100</td><td>&quot;NYC&quot;</td><td>&quot; 100,000.00 &quot;</td><td>&quot;USD&quot;</td><td>70000</td></tr><tr><td>100003</td><td>&quot;JP_1022&quot;</td><td>100</td><td>&quot;NYC&quot;</td><td>&quot; 75,000.00 &quot;</td><td>&quot;USD&quot;</td><td>77000</td></tr><tr><td>100004</td><td>&quot;JP_1036&quot;</td><td>70</td><td>&quot;Boulder&quot;</td><td>&quot; 400,000.00 &quot;</td><td>&quot;USD&quot;</td><td>400000</td></tr><tr><td>100005</td><td>&quot;JP_1015&quot;</td><td>100</td><td>&quot;NYC&quot;</td><td>&quot; 55,000.00 &quot;</td><td>&quot;USD&quot;</td><td>51000</td></tr><tr><td>&hellip;</td><td>&hellip;</td><td>&hellip;</td><td>&hellip;</td><td>&hellip;</td><td>&hellip;</td><td>&hellip;</td></tr><tr><td>104964</td><td>&quot;JP_1045&quot;</td><td>100</td><td>&quot;NYC&quot;</td><td>&quot; 370,000.00 &quot;</td><td>&quot;USD&quot;</td><td>370000</td></tr><tr><td>104965</td><td>&quot;JP_1038&quot;</td><td>70</td><td>&quot;Boulder&quot;</td><td>&quot; 110,000.00 &quot;</td><td>&quot;USD&quot;</td><td>77000</td></tr><tr><td>104966</td><td>&quot;JP_1034&quot;</td><td>90</td><td>&quot;SanJose&quot;</td><td>&quot; 95,000.00 &quot;</td><td>&quot;USD&quot;</td><td>85500</td></tr><tr><td>104967</td><td>&quot;JP_1040&quot;</td><td>70</td><td>&quot;Austin&quot;</td><td>&quot; 140,000.00 &quot;</td><td>&quot;USD&quot;</td><td>98000</td></tr><tr><td>104968</td><td>&quot;JP_1048&quot;</td><td>100</td><td>&quot;NYC&quot;</td><td>&quot; 390,000.00 &quot;</td><td>&quot;USD&quot;</td><td>390000</td></tr></tbody></table></div>"
      ],
      "text/plain": [
       "shape: (4_968, 7)\n",
       "┌────────────┬─────────────┬────────────┬─────────┬──────────────┬──────────┬────────┐\n",
       "│ EmployeeID ┆ Job_Profile ┆ COL Amount ┆ Office  ┆ Compensation ┆ Currency ┆ Salary │\n",
       "│ ---        ┆ ---         ┆ ---        ┆ ---     ┆ ---          ┆ ---      ┆ ---    │\n",
       "│ i64        ┆ str         ┆ i64        ┆ str     ┆ str          ┆ str      ┆ i64    │\n",
       "╞════════════╪═════════════╪════════════╪═════════╪══════════════╪══════════╪════════╡\n",
       "│ 100001     ┆ JP_1000     ┆ 100        ┆ NYC     ┆  500,000.00  ┆ USD      ┆ 500000 │\n",
       "│ 100002     ┆ JP_1001     ┆ 100        ┆ NYC     ┆  100,000.00  ┆ USD      ┆ 70000  │\n",
       "│ 100003     ┆ JP_1022     ┆ 100        ┆ NYC     ┆  75,000.00   ┆ USD      ┆ 77000  │\n",
       "│ 100004     ┆ JP_1036     ┆ 70         ┆ Boulder ┆  400,000.00  ┆ USD      ┆ 400000 │\n",
       "│ 100005     ┆ JP_1015     ┆ 100        ┆ NYC     ┆  55,000.00   ┆ USD      ┆ 51000  │\n",
       "│ …          ┆ …           ┆ …          ┆ …       ┆ …            ┆ …        ┆ …      │\n",
       "│ 104964     ┆ JP_1045     ┆ 100        ┆ NYC     ┆  370,000.00  ┆ USD      ┆ 370000 │\n",
       "│ 104965     ┆ JP_1038     ┆ 70         ┆ Boulder ┆  110,000.00  ┆ USD      ┆ 77000  │\n",
       "│ 104966     ┆ JP_1034     ┆ 90         ┆ SanJose ┆  95,000.00   ┆ USD      ┆ 85500  │\n",
       "│ 104967     ┆ JP_1040     ┆ 70         ┆ Austin  ┆  140,000.00  ┆ USD      ┆ 98000  │\n",
       "│ 104968     ┆ JP_1048     ┆ 100        ┆ NYC     ┆  390,000.00  ┆ USD      ┆ 390000 │\n",
       "└────────────┴─────────────┴────────────┴─────────┴──────────────┴──────────┴────────┘"
      ]
     },
     "metadata": {},
     "output_type": "display_data"
    },
    {
     "data": {
      "text/html": [
       "<div><style>\n",
       ".dataframe > thead > tr,\n",
       ".dataframe > tbody > tr {\n",
       "  text-align: right;\n",
       "  white-space: pre-wrap;\n",
       "}\n",
       "</style>\n",
       "<small>shape: (4_968, 8)</small><table border=\"1\" class=\"dataframe\"><thead><tr><th>EmployeeID</th><th>Job_Profile</th><th>COL Amount</th><th>Office</th><th>Compensation</th><th>Currency</th><th>Salary</th><th>Normalized_Salary (USD)</th></tr><tr><td>i64</td><td>str</td><td>i64</td><td>str</td><td>str</td><td>str</td><td>i64</td><td>f64</td></tr></thead><tbody><tr><td>100001</td><td>&quot;JP_1000&quot;</td><td>100</td><td>&quot;NYC&quot;</td><td>&quot; 500,000.00 &quot;</td><td>&quot;USD&quot;</td><td>500000</td><td>500000.0</td></tr><tr><td>100002</td><td>&quot;JP_1001&quot;</td><td>100</td><td>&quot;NYC&quot;</td><td>&quot; 100,000.00 &quot;</td><td>&quot;USD&quot;</td><td>70000</td><td>70000.0</td></tr><tr><td>100003</td><td>&quot;JP_1022&quot;</td><td>100</td><td>&quot;NYC&quot;</td><td>&quot; 75,000.00 &quot;</td><td>&quot;USD&quot;</td><td>77000</td><td>77000.0</td></tr><tr><td>100004</td><td>&quot;JP_1036&quot;</td><td>70</td><td>&quot;Boulder&quot;</td><td>&quot; 400,000.00 &quot;</td><td>&quot;USD&quot;</td><td>400000</td><td>571428.571429</td></tr><tr><td>100005</td><td>&quot;JP_1015&quot;</td><td>100</td><td>&quot;NYC&quot;</td><td>&quot; 55,000.00 &quot;</td><td>&quot;USD&quot;</td><td>51000</td><td>51000.0</td></tr><tr><td>&hellip;</td><td>&hellip;</td><td>&hellip;</td><td>&hellip;</td><td>&hellip;</td><td>&hellip;</td><td>&hellip;</td><td>&hellip;</td></tr><tr><td>104964</td><td>&quot;JP_1045&quot;</td><td>100</td><td>&quot;NYC&quot;</td><td>&quot; 370,000.00 &quot;</td><td>&quot;USD&quot;</td><td>370000</td><td>370000.0</td></tr><tr><td>104965</td><td>&quot;JP_1038&quot;</td><td>70</td><td>&quot;Boulder&quot;</td><td>&quot; 110,000.00 &quot;</td><td>&quot;USD&quot;</td><td>77000</td><td>110000.0</td></tr><tr><td>104966</td><td>&quot;JP_1034&quot;</td><td>90</td><td>&quot;SanJose&quot;</td><td>&quot; 95,000.00 &quot;</td><td>&quot;USD&quot;</td><td>85500</td><td>95000.0</td></tr><tr><td>104967</td><td>&quot;JP_1040&quot;</td><td>70</td><td>&quot;Austin&quot;</td><td>&quot; 140,000.00 &quot;</td><td>&quot;USD&quot;</td><td>98000</td><td>140000.0</td></tr><tr><td>104968</td><td>&quot;JP_1048&quot;</td><td>100</td><td>&quot;NYC&quot;</td><td>&quot; 390,000.00 &quot;</td><td>&quot;USD&quot;</td><td>390000</td><td>390000.0</td></tr></tbody></table></div>"
      ],
      "text/plain": [
       "shape: (4_968, 8)\n",
       "┌────────────┬─────────────┬────────────┬─────────┬──────────────┬──────────┬────────┬─────────────┐\n",
       "│ EmployeeID ┆ Job_Profile ┆ COL Amount ┆ Office  ┆ Compensation ┆ Currency ┆ Salary ┆ Normalized_ │\n",
       "│ ---        ┆ ---         ┆ ---        ┆ ---     ┆ ---          ┆ ---      ┆ ---    ┆ Salary      │\n",
       "│ i64        ┆ str         ┆ i64        ┆ str     ┆ str          ┆ str      ┆ i64    ┆ (USD)       │\n",
       "│            ┆             ┆            ┆         ┆              ┆          ┆        ┆ ---         │\n",
       "│            ┆             ┆            ┆         ┆              ┆          ┆        ┆ f64         │\n",
       "╞════════════╪═════════════╪════════════╪═════════╪══════════════╪══════════╪════════╪═════════════╡\n",
       "│ 100001     ┆ JP_1000     ┆ 100        ┆ NYC     ┆  500,000.00  ┆ USD      ┆ 500000 ┆ 500000.0    │\n",
       "│ 100002     ┆ JP_1001     ┆ 100        ┆ NYC     ┆  100,000.00  ┆ USD      ┆ 70000  ┆ 70000.0     │\n",
       "│ 100003     ┆ JP_1022     ┆ 100        ┆ NYC     ┆  75,000.00   ┆ USD      ┆ 77000  ┆ 77000.0     │\n",
       "│ 100004     ┆ JP_1036     ┆ 70         ┆ Boulder ┆  400,000.00  ┆ USD      ┆ 400000 ┆ 571428.5714 │\n",
       "│            ┆             ┆            ┆         ┆              ┆          ┆        ┆ 29          │\n",
       "│ 100005     ┆ JP_1015     ┆ 100        ┆ NYC     ┆  55,000.00   ┆ USD      ┆ 51000  ┆ 51000.0     │\n",
       "│ …          ┆ …           ┆ …          ┆ …       ┆ …            ┆ …        ┆ …      ┆ …           │\n",
       "│ 104964     ┆ JP_1045     ┆ 100        ┆ NYC     ┆  370,000.00  ┆ USD      ┆ 370000 ┆ 370000.0    │\n",
       "│ 104965     ┆ JP_1038     ┆ 70         ┆ Boulder ┆  110,000.00  ┆ USD      ┆ 77000  ┆ 110000.0    │\n",
       "│ 104966     ┆ JP_1034     ┆ 90         ┆ SanJose ┆  95,000.00   ┆ USD      ┆ 85500  ┆ 95000.0     │\n",
       "│ 104967     ┆ JP_1040     ┆ 70         ┆ Austin  ┆  140,000.00  ┆ USD      ┆ 98000  ┆ 140000.0    │\n",
       "│ 104968     ┆ JP_1048     ┆ 100        ┆ NYC     ┆  390,000.00  ┆ USD      ┆ 390000 ┆ 390000.0    │\n",
       "└────────────┴─────────────┴────────────┴─────────┴──────────────┴──────────┴────────┴─────────────┘"
      ]
     },
     "metadata": {},
     "output_type": "display_data"
    }
   ],
   "source": [
    "df_combined = Company.join(Profile, on ='Job_Profile', how='inner').join(COL, on = 'Office', how='inner')\n",
    "\n",
    "#display(df_combined)\n",
    "display(df_combined[['EmployeeID','Job_Profile','COL Amount','Office','Compensation','Currency','Salary']])\n",
    "\n",
    "df_combined= df_combined.with_columns(\n",
    "    # Create the Conversion_Rate column based on the Currency column\n",
    "    (\n",
    "        pl.when(pl.col(\"Currency\") == \"JPY\").then(pl.lit(Currency_Rate[\"JPY\"]))\n",
    "        .when(pl.col(\"Currency\") == \"HKD\").then(pl.lit(Currency_Rate[\"HKD\"]))\n",
    "        .when(pl.col(\"Currency\") == \"USD\").then(pl.lit(Currency_Rate[\"USD\"]))\n",
    "        .when(pl.col(\"Currency\") == \"GBP\").then(pl.lit(Currency_Rate[\"GBP\"]))\n",
    "        .when(pl.col(\"Currency\") == \"NOK\").then(pl.lit(Currency_Rate[\"NOK\"]))\n",
    "        .otherwise(pl.lit(None)) # Handle any other currency gracefully\n",
    "    ).alias(\"Conversion_Rate\"),\n",
    ")\n",
    "\n",
    "df_combined = df_combined.with_columns(\n",
    "    (pl.col(\"Salary\") * pl.col(\"Conversion_Rate\")).alias(\"Salary_USD\")\n",
    ")\n",
    "df_combined = df_combined.with_columns(\n",
    "    (pl.col(\"Salary_USD\") / pl.col(\"COL Amount\") *100).alias(\"Normalized_Salary (USD)\")\n",
    ")\n",
    "display(df_combined[['EmployeeID','Job_Profile','COL Amount','Office','Compensation','Currency','Salary','Normalized_Salary (USD)']])"
   ]
  },
  {
   "cell_type": "code",
   "execution_count": 8,
   "id": "300ae694",
   "metadata": {
    "_cell_guid": "52594de3-86bd-40d4-a6fd-7ea41ece39c8",
    "_uuid": "48491481-9dc3-4ad2-a13f-1ca94ec831f4",
    "collapsed": false,
    "execution": {
     "iopub.execute_input": "2025-09-03T16:38:08.435280Z",
     "iopub.status.busy": "2025-09-03T16:38:08.434551Z",
     "iopub.status.idle": "2025-09-03T16:38:08.942566Z",
     "shell.execute_reply": "2025-09-03T16:38:08.941736Z"
    },
    "jupyter": {
     "outputs_hidden": false
    },
    "papermill": {
     "duration": 0.516295,
     "end_time": "2025-09-03T16:38:08.944193",
     "exception": false,
     "start_time": "2025-09-03T16:38:08.427898",
     "status": "completed"
    },
    "tags": []
   },
   "outputs": [
    {
     "data": {
      "text/html": [
       "<div><style>\n",
       ".dataframe > thead > tr,\n",
       ".dataframe > tbody > tr {\n",
       "  text-align: right;\n",
       "  white-space: pre-wrap;\n",
       "}\n",
       "</style>\n",
       "<small>shape: (9, 4)</small><table border=\"1\" class=\"dataframe\"><thead><tr><th>Office</th><th>Avg_Normalized_Salary (USD)</th><th>Employee_Count</th><th>COL Amount</th></tr><tr><td>str</td><td>f64</td><td>u32</td><td>f64</td></tr></thead><tbody><tr><td>&quot;Boulder&quot;</td><td>133703.525501</td><td>1633</td><td>70.0</td></tr><tr><td>&quot;Austin&quot;</td><td>123404.255319</td><td>47</td><td>70.0</td></tr><tr><td>&quot;SanFran&quot;</td><td>107452.830189</td><td>53</td><td>100.0</td></tr><tr><td>&quot;Oslo&quot;</td><td>83222.857143</td><td>150</td><td>70.0</td></tr><tr><td>&quot;SanJose&quot;</td><td>73287.28947</td><td>917</td><td>90.0</td></tr><tr><td>&quot;NYC&quot;</td><td>67435.96882</td><td>1796</td><td>100.0</td></tr><tr><td>&quot;Tokyo&quot;</td><td>62804.658494</td><td>50</td><td>85.0</td></tr><tr><td>&quot;London&quot;</td><td>47382.4</td><td>250</td><td>90.0</td></tr><tr><td>&quot;HongKong&quot;</td><td>45302.892157</td><td>72</td><td>85.0</td></tr></tbody></table></div>"
      ],
      "text/plain": [
       "shape: (9, 4)\n",
       "┌──────────┬─────────────────────────────┬────────────────┬────────────┐\n",
       "│ Office   ┆ Avg_Normalized_Salary (USD) ┆ Employee_Count ┆ COL Amount │\n",
       "│ ---      ┆ ---                         ┆ ---            ┆ ---        │\n",
       "│ str      ┆ f64                         ┆ u32            ┆ f64        │\n",
       "╞══════════╪═════════════════════════════╪════════════════╪════════════╡\n",
       "│ Boulder  ┆ 133703.525501               ┆ 1633           ┆ 70.0       │\n",
       "│ Austin   ┆ 123404.255319               ┆ 47             ┆ 70.0       │\n",
       "│ SanFran  ┆ 107452.830189               ┆ 53             ┆ 100.0      │\n",
       "│ Oslo     ┆ 83222.857143                ┆ 150            ┆ 70.0       │\n",
       "│ SanJose  ┆ 73287.28947                 ┆ 917            ┆ 90.0       │\n",
       "│ NYC      ┆ 67435.96882                 ┆ 1796           ┆ 100.0      │\n",
       "│ Tokyo    ┆ 62804.658494                ┆ 50             ┆ 85.0       │\n",
       "│ London   ┆ 47382.4                     ┆ 250            ┆ 90.0       │\n",
       "│ HongKong ┆ 45302.892157                ┆ 72             ┆ 85.0       │\n",
       "└──────────┴─────────────────────────────┴────────────────┴────────────┘"
      ]
     },
     "metadata": {},
     "output_type": "display_data"
    },
    {
     "name": "stdout",
     "output_type": "stream",
     "text": [
      "shape: (9,)\n",
      "Series: 'Office' [str]\n",
      "[\n",
      "\t\"Boulder\"\n",
      "\t\"Austin\"\n",
      "\t\"SanFran\"\n",
      "\t\"Oslo\"\n",
      "\t\"SanJose\"\n",
      "\t\"NYC\"\n",
      "\t\"Tokyo\"\n",
      "\t\"London\"\n",
      "\t\"HongKong\"\n",
      "]\n"
     ]
    },
    {
     "data": {
      "image/png": "[encoded data removed]",
      "text/plain": [
       "<Figure size 1000x600 with 1 Axes>"
      ]
     },
     "metadata": {},
     "output_type": "display_data"
    }
   ],
   "source": [
    "#Salary & COL Relationship\n",
    "pl.Config.float_precision = None\n",
    "df_group = df_combined.group_by(\"Office\").agg(\n",
    "    pl.col(\"Normalized_Salary (USD)\").mean().alias(\"Avg_Normalized_Salary (USD)\"),\n",
    "    pl.col(\"EmployeeID\").count().alias(\"Employee_Count\"),\n",
    "    pl.col(\"COL Amount\").mean()\n",
    ").sort(\"Avg_Normalized_Salary (USD)\", descending=True)\n",
    "display(df_group)\n",
    "\n",
    "print(df_group['Office'])\n",
    "\n",
    "color_map = {\n",
    "    \"Tokyo\" : \"red\",\n",
    "\t\"Oslo\" : \"blue\",\n",
    "\t\"HongKong\" : \"green\",\n",
    "\t\"Boulder\" : \"purple\",\n",
    "\t\"Austin\" : \"orange\",\n",
    "\t\"SanFran\" : \"pink\",\n",
    "\t\"SanJose\" : \"brown\",\n",
    "\t\"NYC\" : \"gray\",\n",
    "\t\"London\" : \"cyan\"\n",
    "}\n",
    "custom_color = [color_map.get(office, 'black') for office in df_group['Office']]\n",
    "\n",
    "fig,ax = plt.subplots(figsize = (10,6))\n",
    "for office, color in zip(df_group['Office'], custom_color):\n",
    "\toffice_data = df_group.filter(pl.col(\"Office\") == office)\n",
    "\tplt.scatter(office_data['COL Amount'], office_data['Avg_Normalized_Salary (USD)'], label = office, color = color)\n",
    "\n",
    "plt.title('Salary vs Cost of Living')\n",
    "plt.xlabel('Cost of Living (USD)')\n",
    "plt.ylabel('Average Normalized Salary (USD)')\n",
    "plt.legend(loc=\"upper right\")\n",
    "plt.grid()\n",
    "plt.show()"
   ]
  }
 ],
 "metadata": {
  "kaggle": {
   "accelerator": "none",
   "dataSources": [
    {
     "datasetId": 1836686,
     "sourceId": 12951497,
     "sourceType": "datasetVersion"
    }
   ],
   "dockerImageVersionId": 31089,
   "isGpuEnabled": false,
   "isInternetEnabled": true,
   "language": "python",
   "sourceType": "notebook"
  },
  "kernelspec": {
   "display_name": "Python 3",
   "language": "python",
   "name": "python3"
  },
  "language_info": {
   "codemirror_mode": {
    "name": "ipython",
    "version": 3
   },
   "file_extension": ".py",
   "mimetype": "text/x-python",
   "name": "python",
   "nbconvert_exporter": "python",
   "pygments_lexer": "ipython3",
   "version": "3.11.13"
  },
  "papermill": {
   "default_parameters": {},
   "duration": 11.294458,
   "end_time": "2025-09-03T16:38:09.671940",
   "environment_variables": {},
   "exception": null,
   "input_path": "__notebook__.ipynb",
   "output_path": "__notebook__.ipynb",
   "parameters": {},
   "start_time": "2025-09-03T16:37:58.377482",
   "version": "2.6.0"
  }
 },
 "nbformat": 4,
 "nbformat_minor": 5
}
